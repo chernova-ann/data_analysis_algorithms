{
 "cells": [
  {
   "cell_type": "markdown",
   "metadata": {},
   "source": [
    "https://www.kaggle.com/c/tutors-expected-math-exam-results - предсказание среднего балла на ЕГЭ по математике, задача регрессии.\n",
    "\n",
    "Можно начинать ознакамливаться с задачами и начинать решать. При решении разрешены только следующие импорты / зависимости:\n",
    "\n",
    "\n",
    "import numpy as np\n",
    "\n",
    "import pandas as pd\n",
    "\n",
    "from sklearn.model_selection import train_test_split\n",
    "\n",
    "import matplotlib.pyplot as plt\n",
    "\n",
    "import seaborn as sns"
   ]
  },
  {
   "cell_type": "code",
   "execution_count": 1,
   "metadata": {},
   "outputs": [],
   "source": [
    "import numpy as np\n",
    "import pandas as pd\n",
    "from sklearn.model_selection import train_test_split\n",
    "import matplotlib.pyplot as plt\n",
    "import seaborn as sns"
   ]
  },
  {
   "cell_type": "code",
   "execution_count": 2,
   "metadata": {},
   "outputs": [
    {
     "name": "stdout",
     "output_type": "stream",
     "text": [
      "Data is loaded!\n"
     ]
    }
   ],
   "source": [
    "# Загрузка тренировочных и тестовых данных\n",
    "df_train = pd.read_csv('train.csv')\n",
    "df_test = pd.read_csv('test.csv')\n",
    "print('Data is loaded!')"
   ]
  },
  {
   "cell_type": "code",
   "execution_count": 3,
   "metadata": {},
   "outputs": [
    {
     "data": {
      "text/html": [
       "<div>\n",
       "<style scoped>\n",
       "    .dataframe tbody tr th:only-of-type {\n",
       "        vertical-align: middle;\n",
       "    }\n",
       "\n",
       "    .dataframe tbody tr th {\n",
       "        vertical-align: top;\n",
       "    }\n",
       "\n",
       "    .dataframe thead th {\n",
       "        text-align: right;\n",
       "    }\n",
       "</style>\n",
       "<table border=\"1\" class=\"dataframe\">\n",
       "  <thead>\n",
       "    <tr style=\"text-align: right;\">\n",
       "      <th></th>\n",
       "      <th>Id</th>\n",
       "      <th>age</th>\n",
       "      <th>years_of_experience</th>\n",
       "      <th>lesson_price</th>\n",
       "      <th>qualification</th>\n",
       "      <th>physics</th>\n",
       "      <th>chemistry</th>\n",
       "      <th>biology</th>\n",
       "      <th>english</th>\n",
       "      <th>geography</th>\n",
       "      <th>history</th>\n",
       "    </tr>\n",
       "  </thead>\n",
       "  <tbody>\n",
       "    <tr>\n",
       "      <th>0</th>\n",
       "      <td>10000</td>\n",
       "      <td>46.0</td>\n",
       "      <td>3.0</td>\n",
       "      <td>1050.0</td>\n",
       "      <td>1.0</td>\n",
       "      <td>0.0</td>\n",
       "      <td>1.0</td>\n",
       "      <td>0.0</td>\n",
       "      <td>0.0</td>\n",
       "      <td>0.0</td>\n",
       "      <td>0.0</td>\n",
       "    </tr>\n",
       "    <tr>\n",
       "      <th>1</th>\n",
       "      <td>10001</td>\n",
       "      <td>43.0</td>\n",
       "      <td>3.0</td>\n",
       "      <td>1850.0</td>\n",
       "      <td>2.0</td>\n",
       "      <td>0.0</td>\n",
       "      <td>0.0</td>\n",
       "      <td>0.0</td>\n",
       "      <td>0.0</td>\n",
       "      <td>0.0</td>\n",
       "      <td>0.0</td>\n",
       "    </tr>\n",
       "    <tr>\n",
       "      <th>2</th>\n",
       "      <td>10002</td>\n",
       "      <td>52.0</td>\n",
       "      <td>1.0</td>\n",
       "      <td>1550.0</td>\n",
       "      <td>1.0</td>\n",
       "      <td>1.0</td>\n",
       "      <td>0.0</td>\n",
       "      <td>0.0</td>\n",
       "      <td>0.0</td>\n",
       "      <td>0.0</td>\n",
       "      <td>0.0</td>\n",
       "    </tr>\n",
       "    <tr>\n",
       "      <th>3</th>\n",
       "      <td>10003</td>\n",
       "      <td>57.0</td>\n",
       "      <td>6.0</td>\n",
       "      <td>2900.0</td>\n",
       "      <td>3.0</td>\n",
       "      <td>1.0</td>\n",
       "      <td>0.0</td>\n",
       "      <td>1.0</td>\n",
       "      <td>0.0</td>\n",
       "      <td>0.0</td>\n",
       "      <td>0.0</td>\n",
       "    </tr>\n",
       "    <tr>\n",
       "      <th>4</th>\n",
       "      <td>10004</td>\n",
       "      <td>44.0</td>\n",
       "      <td>4.0</td>\n",
       "      <td>3150.0</td>\n",
       "      <td>3.0</td>\n",
       "      <td>1.0</td>\n",
       "      <td>0.0</td>\n",
       "      <td>0.0</td>\n",
       "      <td>0.0</td>\n",
       "      <td>0.0</td>\n",
       "      <td>0.0</td>\n",
       "    </tr>\n",
       "  </tbody>\n",
       "</table>\n",
       "</div>"
      ],
      "text/plain": [
       "      Id   age  years_of_experience  lesson_price  qualification  physics  \\\n",
       "0  10000  46.0                  3.0        1050.0            1.0      0.0   \n",
       "1  10001  43.0                  3.0        1850.0            2.0      0.0   \n",
       "2  10002  52.0                  1.0        1550.0            1.0      1.0   \n",
       "3  10003  57.0                  6.0        2900.0            3.0      1.0   \n",
       "4  10004  44.0                  4.0        3150.0            3.0      1.0   \n",
       "\n",
       "   chemistry  biology  english  geography  history  \n",
       "0        1.0      0.0      0.0        0.0      0.0  \n",
       "1        0.0      0.0      0.0        0.0      0.0  \n",
       "2        0.0      0.0      0.0        0.0      0.0  \n",
       "3        0.0      1.0      0.0        0.0      0.0  \n",
       "4        0.0      0.0      0.0        0.0      0.0  "
      ]
     },
     "execution_count": 3,
     "metadata": {},
     "output_type": "execute_result"
    }
   ],
   "source": [
    "df_test.head()"
   ]
  },
  {
   "cell_type": "code",
   "execution_count": 4,
   "metadata": {},
   "outputs": [
    {
     "data": {
      "text/html": [
       "<div>\n",
       "<style scoped>\n",
       "    .dataframe tbody tr th:only-of-type {\n",
       "        vertical-align: middle;\n",
       "    }\n",
       "\n",
       "    .dataframe tbody tr th {\n",
       "        vertical-align: top;\n",
       "    }\n",
       "\n",
       "    .dataframe thead th {\n",
       "        text-align: right;\n",
       "    }\n",
       "</style>\n",
       "<table border=\"1\" class=\"dataframe\">\n",
       "  <thead>\n",
       "    <tr style=\"text-align: right;\">\n",
       "      <th></th>\n",
       "      <th>Id</th>\n",
       "      <th>age</th>\n",
       "      <th>years_of_experience</th>\n",
       "      <th>lesson_price</th>\n",
       "      <th>qualification</th>\n",
       "      <th>physics</th>\n",
       "      <th>chemistry</th>\n",
       "      <th>biology</th>\n",
       "      <th>english</th>\n",
       "      <th>geography</th>\n",
       "      <th>history</th>\n",
       "      <th>mean_exam_points</th>\n",
       "    </tr>\n",
       "  </thead>\n",
       "  <tbody>\n",
       "    <tr>\n",
       "      <th>0</th>\n",
       "      <td>0</td>\n",
       "      <td>40.0</td>\n",
       "      <td>0.0</td>\n",
       "      <td>1400.0</td>\n",
       "      <td>1.0</td>\n",
       "      <td>1.0</td>\n",
       "      <td>0.0</td>\n",
       "      <td>0.0</td>\n",
       "      <td>0.0</td>\n",
       "      <td>1.0</td>\n",
       "      <td>0.0</td>\n",
       "      <td>63.0</td>\n",
       "    </tr>\n",
       "    <tr>\n",
       "      <th>1</th>\n",
       "      <td>1</td>\n",
       "      <td>48.0</td>\n",
       "      <td>4.0</td>\n",
       "      <td>2850.0</td>\n",
       "      <td>3.0</td>\n",
       "      <td>1.0</td>\n",
       "      <td>0.0</td>\n",
       "      <td>0.0</td>\n",
       "      <td>0.0</td>\n",
       "      <td>0.0</td>\n",
       "      <td>0.0</td>\n",
       "      <td>86.0</td>\n",
       "    </tr>\n",
       "    <tr>\n",
       "      <th>2</th>\n",
       "      <td>2</td>\n",
       "      <td>39.0</td>\n",
       "      <td>0.0</td>\n",
       "      <td>1200.0</td>\n",
       "      <td>1.0</td>\n",
       "      <td>0.0</td>\n",
       "      <td>0.0</td>\n",
       "      <td>0.0</td>\n",
       "      <td>0.0</td>\n",
       "      <td>0.0</td>\n",
       "      <td>0.0</td>\n",
       "      <td>53.0</td>\n",
       "    </tr>\n",
       "    <tr>\n",
       "      <th>3</th>\n",
       "      <td>3</td>\n",
       "      <td>46.0</td>\n",
       "      <td>5.0</td>\n",
       "      <td>1400.0</td>\n",
       "      <td>1.0</td>\n",
       "      <td>0.0</td>\n",
       "      <td>0.0</td>\n",
       "      <td>0.0</td>\n",
       "      <td>0.0</td>\n",
       "      <td>0.0</td>\n",
       "      <td>0.0</td>\n",
       "      <td>56.0</td>\n",
       "    </tr>\n",
       "    <tr>\n",
       "      <th>4</th>\n",
       "      <td>4</td>\n",
       "      <td>43.0</td>\n",
       "      <td>1.0</td>\n",
       "      <td>1500.0</td>\n",
       "      <td>1.0</td>\n",
       "      <td>0.0</td>\n",
       "      <td>0.0</td>\n",
       "      <td>0.0</td>\n",
       "      <td>0.0</td>\n",
       "      <td>0.0</td>\n",
       "      <td>0.0</td>\n",
       "      <td>59.0</td>\n",
       "    </tr>\n",
       "  </tbody>\n",
       "</table>\n",
       "</div>"
      ],
      "text/plain": [
       "   Id   age  years_of_experience  lesson_price  qualification  physics  \\\n",
       "0   0  40.0                  0.0        1400.0            1.0      1.0   \n",
       "1   1  48.0                  4.0        2850.0            3.0      1.0   \n",
       "2   2  39.0                  0.0        1200.0            1.0      0.0   \n",
       "3   3  46.0                  5.0        1400.0            1.0      0.0   \n",
       "4   4  43.0                  1.0        1500.0            1.0      0.0   \n",
       "\n",
       "   chemistry  biology  english  geography  history  mean_exam_points  \n",
       "0        0.0      0.0      0.0        1.0      0.0              63.0  \n",
       "1        0.0      0.0      0.0        0.0      0.0              86.0  \n",
       "2        0.0      0.0      0.0        0.0      0.0              53.0  \n",
       "3        0.0      0.0      0.0        0.0      0.0              56.0  \n",
       "4        0.0      0.0      0.0        0.0      0.0              59.0  "
      ]
     },
     "execution_count": 4,
     "metadata": {},
     "output_type": "execute_result"
    }
   ],
   "source": [
    "df_train.head()"
   ]
  },
  {
   "cell_type": "code",
   "execution_count": 5,
   "metadata": {},
   "outputs": [],
   "source": [
    "num_features = ['age', 'years_of_experience', 'lesson_price', 'qualification']\n",
    "cat_features = ['physics', 'chemistry', 'biology', 'english', 'geography', 'history']\n",
    "target_name = 'mean_exam_points'"
   ]
  },
  {
   "cell_type": "code",
   "execution_count": 6,
   "metadata": {},
   "outputs": [
    {
     "data": {
      "image/png": "[encoded data removed]",
      "text/plain": [
       "<Figure size 1080x720 with 12 Axes>"
      ]
     },
     "metadata": {
      "needs_background": "light"
     },
     "output_type": "display_data"
    }
   ],
   "source": [
    "df_train.hist(figsize=(15,10));"
   ]
  },
  {
   "cell_type": "code",
   "execution_count": 7,
   "metadata": {},
   "outputs": [
    {
     "data": {
      "text/plain": [
       "<AxesSubplot:>"
      ]
     },
     "execution_count": 7,
     "metadata": {},
     "output_type": "execute_result"
    },
    {
     "data": {
      "image/png": "[encoded data removed]",
      "text/plain": [
       "<Figure size 432x288 with 2 Axes>"
      ]
     },
     "metadata": {
      "needs_background": "light"
     },
     "output_type": "display_data"
    }
   ],
   "source": [
    "corr_matrix = df_train.corr()\n",
    "sns.heatmap(corr_matrix)"
   ]
  },
  {
   "cell_type": "code",
   "execution_count": 8,
   "metadata": {},
   "outputs": [
    {
     "data": {
      "text/plain": [
       "history                0.000113\n",
       "Id                     0.004121\n",
       "age                    0.007646\n",
       "english                0.013174\n",
       "geography              0.014401\n",
       "chemistry              0.017825\n",
       "biology                0.023022\n",
       "physics                0.187726\n",
       "years_of_experience    0.205417\n",
       "lesson_price           0.721179\n",
       "qualification          0.755963\n",
       "mean_exam_points       1.000000\n",
       "Name: mean_exam_points, dtype: float64"
      ]
     },
     "execution_count": 8,
     "metadata": {},
     "output_type": "execute_result"
    }
   ],
   "source": [
    "corr_matrix.loc['mean_exam_points'].abs().sort_values() # Параметры history, id, age практически не имеют корреляцонной знаимости"
   ]
  },
  {
   "cell_type": "code",
   "execution_count": 9,
   "metadata": {},
   "outputs": [],
   "source": [
    "# Функции масштабирования данных\n",
    "def standart_scale(X):\n",
    "    X = (X - X.mean()) / X\n",
    "    return X\n",
    "def minmax_scale(X):\n",
    "    X = (X - X.min())/(X.max() - X.min())\n",
    "    return X"
   ]
  },
  {
   "cell_type": "code",
   "execution_count": 10,
   "metadata": {},
   "outputs": [
    {
     "data": {
      "text/plain": [
       "array([[4.00e+01, 0.00e+00, 1.40e+03, 1.00e+00],\n",
       "       [4.80e+01, 4.00e+00, 2.85e+03, 3.00e+00],\n",
       "       [3.90e+01, 0.00e+00, 1.20e+03, 1.00e+00],\n",
       "       ...,\n",
       "       [3.40e+01, 1.00e+00, 1.25e+03, 1.00e+00],\n",
       "       [3.30e+01, 3.00e+00, 1.10e+03, 1.00e+00],\n",
       "       [3.50e+01, 0.00e+00, 1.45e+03, 1.00e+00]])"
      ]
     },
     "execution_count": 10,
     "metadata": {},
     "output_type": "execute_result"
    }
   ],
   "source": [
    "X_num = df_train[num_features].values\n",
    "X_num"
   ]
  },
  {
   "cell_type": "code",
   "execution_count": 11,
   "metadata": {},
   "outputs": [
    {
     "data": {
      "text/plain": [
       "array([[0.37777778, 0.        , 0.32      , 0.        ],\n",
       "       [0.55555556, 0.4       , 0.70666667, 0.66666667],\n",
       "       [0.35555556, 0.        , 0.26666667, 0.        ],\n",
       "       ...,\n",
       "       [0.24444444, 0.1       , 0.28      , 0.        ],\n",
       "       [0.22222222, 0.3       , 0.24      , 0.        ],\n",
       "       [0.26666667, 0.        , 0.33333333, 0.        ]])"
      ]
     },
     "execution_count": 11,
     "metadata": {},
     "output_type": "execute_result"
    }
   ],
   "source": [
    "# Масштабируем числовые переменные, чтобы все признаки были в одном масштабе в интервале [0, 1]. Так как линейная регрессия чувствительна к масштабу.\n",
    "X_num[:,0] = minmax_scale(X_num[:,0])\n",
    "X_num[:,1] = minmax_scale(X_num[:,1])\n",
    "X_num[:,2] = minmax_scale(X_num[:,2])\n",
    "X_num[:,3] = minmax_scale(X_num[:,3])\n",
    "X_num"
   ]
  },
  {
   "cell_type": "code",
   "execution_count": 12,
   "metadata": {},
   "outputs": [],
   "source": [
    "X_cat = df_train[cat_features].values"
   ]
  },
  {
   "cell_type": "code",
   "execution_count": 13,
   "metadata": {},
   "outputs": [],
   "source": [
    "X = np.concatenate([X_num, X_cat], axis=1) # numpy массив из данных обучаемой выборки\n",
    "y = df_train[target_name].values # numpy массив значений целефой переменной"
   ]
  },
  {
   "cell_type": "code",
   "execution_count": 14,
   "metadata": {},
   "outputs": [
    {
     "data": {
      "text/plain": [
       "((10000, 10), (10000,))"
      ]
     },
     "execution_count": 14,
     "metadata": {},
     "output_type": "execute_result"
    }
   ],
   "source": [
    "X.shape, y.shape"
   ]
  },
  {
   "cell_type": "code",
   "execution_count": 15,
   "metadata": {},
   "outputs": [],
   "source": [
    "X_train, X_val, y_train, y_val = train_test_split(X, y, test_size=0.3, shuffle=True, random_state=21)"
   ]
  },
  {
   "cell_type": "code",
   "execution_count": 16,
   "metadata": {},
   "outputs": [
    {
     "data": {
      "text/plain": [
       "((7000, 10), (3000, 10), (7000,), (3000,))"
      ]
     },
     "execution_count": 16,
     "metadata": {},
     "output_type": "execute_result"
    }
   ],
   "source": [
    "X_train.shape, X_val.shape, y_train.shape, y_val.shape"
   ]
  },
  {
   "cell_type": "markdown",
   "metadata": {},
   "source": [
    "#### Линейная модель и градиентный спуск для регрессии"
   ]
  },
  {
   "cell_type": "code",
   "execution_count": 17,
   "metadata": {},
   "outputs": [],
   "source": [
    "def calc_mse(y, y_pred):\n",
    "    err = np.mean((y - y_pred)**2)\n",
    "    return err"
   ]
  },
  {
   "cell_type": "code",
   "execution_count": 18,
   "metadata": {},
   "outputs": [],
   "source": [
    "def line_gd_model(X, y, iterations, qty_in_batch=1, eta=1e-4):\n",
    "    W = np.random.randn(X.shape[1])\n",
    "    n = X.shape[0]\n",
    "    errors =[]\n",
    "    n_batch = n // qty_in_batch\n",
    "    if n % qty_in_batch != 0:\n",
    "        n_batch += 1\n",
    "\n",
    "    for i in range(1, iterations+1):\n",
    "        # эпоха обучения\n",
    "        for b in range(n_batch):\n",
    "            start_ = qty_in_batch*b\n",
    "            end_ = qty_in_batch*(b+1)\n",
    "\n",
    "            # print(b, n_batch, start_, end_)\n",
    "\n",
    "            X_tmp = X[start_ : end_, :]\n",
    "            y_tmp = y[start_ : end_]\n",
    "            y_pred_tmp = np.dot(W, X_tmp.T)\n",
    "            err = calc_mse(y_tmp, y_pred_tmp)\n",
    "            errors.append(err)\n",
    "            W -= (eta * (1/n * 2 * np.dot((y_pred_tmp - y_tmp), X_tmp)))\n",
    "\n",
    "    if i % (iterations / 100) == 0:\n",
    "        print(i, W, err)\n",
    "        \n",
    "    return W, errors\n",
    "\n",
    "def line_reg_l2_model(X, y, iterations, eta=1e-4, lambda_=1e-8):\n",
    "    W = np.random.randn(X.shape[1])\n",
    "    n = X.shape[0]\n",
    "    errors = []\n",
    "    for i in range(1, iterations+1):\n",
    "        y_pred = np.dot(W, X.T)\n",
    "        err = calc_mse(y, y_pred)\n",
    "        errors.append(err)\n",
    "        W -= (eta * (1/n * 2 * np.dot((y_pred - y), X))) + (2*lambda_*W)\n",
    "        if i % (iterations / 10) == 0:\n",
    "            print(i, W, err)\n",
    "    return W, errors"
   ]
  },
  {
   "cell_type": "code",
   "execution_count": 19,
   "metadata": {},
   "outputs": [
    {
     "name": "stdout",
     "output_type": "stream",
     "text": [
      "100 [47.44020663 16.85341463 54.93088573 26.94704529 10.34331424  4.94553611\n",
      "  5.98832521  5.05030188  3.59439744  1.86515297] 181.58500604818076\n",
      "200 [44.94788993 13.89603079 64.7224295  22.41607248  9.38663925  3.64919246\n",
      "  4.76532385  4.90354916  3.20732783  2.08357377] 167.7557905462718\n",
      "300 [42.32019342 11.66008935 72.40727429 18.43193103  9.15578895  3.32353274\n",
      "  4.40195247  4.7104063   2.88870001  2.15506354] 158.9677687352293\n",
      "400 [40.04504946 10.03163535 78.66280248 15.16806971  8.99046914  3.14042699\n",
      "  4.21198338  4.53850996  2.65112321  2.14883136] 153.14973101971188\n",
      "500 [38.13706872  8.81995493 83.76630022 12.49592212  8.85889991  3.0007189\n",
      "  4.07522296  4.39427798  2.47241984  2.10039895] 149.28393549407744\n",
      "600 [36.55602063  7.89785517 87.93065918 10.30703605  8.75251958  2.88818273\n",
      "  3.96746718  4.27542437  2.33554171  2.03133455] 146.71156933662039\n",
      "700 [35.25354808  7.18295829 91.3289196   8.51478753  8.66608717  2.79666502\n",
      "  3.88066479  4.17806649  2.22895029  1.95477628] 144.99865333802583\n",
      "800 [34.18410359  6.62068691 94.10221878  7.04833839  8.59572469  2.72206336\n",
      "  3.81028646  4.09847459  2.14483865  1.87848283] 143.85762255024696\n",
      "900 [33.30776419  6.17369894 96.36564501  5.84923388  8.53839027  2.66119912\n",
      "  3.75307589  4.03345036  2.07779789  1.8067722 ] 143.09739763555874\n",
      "1000 [32.59058758  5.81557941 98.21304205  4.8692215   8.49164684  2.61152362\n",
      "  3.70650542  3.98034061  2.02396975  1.74179063] 142.5908355710566\n"
     ]
    }
   ],
   "source": [
    "W_line, errors_1 = line_reg_l2_model(X_train, y_train, iterations=1000, eta=0.1) # Проверяем с разными параметрами iterations и alpha."
   ]
  },
  {
   "cell_type": "code",
   "execution_count": 20,
   "metadata": {},
   "outputs": [],
   "source": [
    "def predict_line(W, X):\n",
    "    y_pred = np.dot(X, W.T)\n",
    "    return y_pred  "
   ]
  },
  {
   "cell_type": "code",
   "execution_count": 22,
   "metadata": {},
   "outputs": [],
   "source": [
    "y_pred_line = predict_line(W_line, X_val)"
   ]
  },
  {
   "cell_type": "code",
   "execution_count": 23,
   "metadata": {},
   "outputs": [],
   "source": [
    "def r_2(y_pred, y_true):\n",
    "    numerator = ((y_true - y_pred) ** 2).sum(axis=0)\n",
    "    denominator = ((y_true - np.average(y_true)) ** 2).sum(axis=0)\n",
    "    return 1 - (numerator / denominator)"
   ]
  },
  {
   "cell_type": "code",
   "execution_count": 24,
   "metadata": {},
   "outputs": [
    {
     "name": "stdout",
     "output_type": "stream",
     "text": [
      "0.17941470175677487\n"
     ]
    }
   ],
   "source": [
    "print(r_2(y_pred_line, y_val)) # Очень маленький результат"
   ]
  },
  {
   "cell_type": "code",
   "execution_count": 25,
   "metadata": {},
   "outputs": [
    {
     "data": {
      "text/html": [
       "<div>\n",
       "<style scoped>\n",
       "    .dataframe tbody tr th:only-of-type {\n",
       "        vertical-align: middle;\n",
       "    }\n",
       "\n",
       "    .dataframe tbody tr th {\n",
       "        vertical-align: top;\n",
       "    }\n",
       "\n",
       "    .dataframe thead th {\n",
       "        text-align: right;\n",
       "    }\n",
       "</style>\n",
       "<table border=\"1\" class=\"dataframe\">\n",
       "  <thead>\n",
       "    <tr style=\"text-align: right;\">\n",
       "      <th></th>\n",
       "      <th>y_val</th>\n",
       "      <th>y_pred_line</th>\n",
       "    </tr>\n",
       "  </thead>\n",
       "  <tbody>\n",
       "    <tr>\n",
       "      <th>0</th>\n",
       "      <td>91.0</td>\n",
       "      <td>82.606087</td>\n",
       "    </tr>\n",
       "    <tr>\n",
       "      <th>1</th>\n",
       "      <td>70.0</td>\n",
       "      <td>58.533355</td>\n",
       "    </tr>\n",
       "    <tr>\n",
       "      <th>2</th>\n",
       "      <td>71.0</td>\n",
       "      <td>65.918386</td>\n",
       "    </tr>\n",
       "    <tr>\n",
       "      <th>3</th>\n",
       "      <td>58.0</td>\n",
       "      <td>58.104192</td>\n",
       "    </tr>\n",
       "    <tr>\n",
       "      <th>4</th>\n",
       "      <td>59.0</td>\n",
       "      <td>56.673085</td>\n",
       "    </tr>\n",
       "    <tr>\n",
       "      <th>5</th>\n",
       "      <td>45.0</td>\n",
       "      <td>66.438599</td>\n",
       "    </tr>\n",
       "    <tr>\n",
       "      <th>6</th>\n",
       "      <td>72.0</td>\n",
       "      <td>68.687149</td>\n",
       "    </tr>\n",
       "    <tr>\n",
       "      <th>7</th>\n",
       "      <td>65.0</td>\n",
       "      <td>72.101817</td>\n",
       "    </tr>\n",
       "    <tr>\n",
       "      <th>8</th>\n",
       "      <td>84.0</td>\n",
       "      <td>80.970958</td>\n",
       "    </tr>\n",
       "    <tr>\n",
       "      <th>9</th>\n",
       "      <td>86.0</td>\n",
       "      <td>100.207462</td>\n",
       "    </tr>\n",
       "  </tbody>\n",
       "</table>\n",
       "</div>"
      ],
      "text/plain": [
       "   y_val  y_pred_line\n",
       "0   91.0    82.606087\n",
       "1   70.0    58.533355\n",
       "2   71.0    65.918386\n",
       "3   58.0    58.104192\n",
       "4   59.0    56.673085\n",
       "5   45.0    66.438599\n",
       "6   72.0    68.687149\n",
       "7   65.0    72.101817\n",
       "8   84.0    80.970958\n",
       "9   86.0   100.207462"
      ]
     },
     "execution_count": 25,
     "metadata": {},
     "output_type": "execute_result"
    }
   ],
   "source": [
    "check_test = pd.DataFrame({\n",
    "    \"y_val\": y_val,\n",
    "    \"y_pred_line\": y_pred_line.flatten()\n",
    "})\n",
    " \n",
    "check_test.head(10)"
   ]
  },
  {
   "cell_type": "code",
   "execution_count": 27,
   "metadata": {},
   "outputs": [
    {
     "name": "stdout",
     "output_type": "stream",
     "text": [
      "1000 [32.62196156  5.82850318 98.14440572  4.90788     8.49349417  2.6101593\n",
      "  3.71051414  3.98173598  2.02497305  1.74361004] 53.97828713705059\n"
     ]
    }
   ],
   "source": [
    "W_gd, errors_2 = line_gd_model(X_train, y_train, iterations=1000, qty_in_batch=1, eta=0.1) # Оптимальные веса"
   ]
  },
  {
   "cell_type": "code",
   "execution_count": 29,
   "metadata": {},
   "outputs": [
    {
     "name": "stdout",
     "output_type": "stream",
     "text": [
      "0.17928387432009818\n"
     ]
    }
   ],
   "source": [
    "y_pred_gd = predict_line(W_gd, X_val)\n",
    "print(r_2(y_pred_gd, y_val)) # Практичсеки такой же результат."
   ]
  },
  {
   "cell_type": "markdown",
   "metadata": {},
   "source": [
    "#### Дерево решений для задачи регрессии и градиентный бустинг"
   ]
  },
  {
   "cell_type": "code",
   "execution_count": 65,
   "metadata": {},
   "outputs": [],
   "source": [
    "# Реализуем класс узла\n",
    "\n",
    "class Node:\n",
    "    \n",
    "    def __init__(self, index, t, true_branch, false_branch):\n",
    "        self.index = index  # индекс признака, по которому ведется сравнение с порогом в этом узле\n",
    "        self.t = t  # значение порога\n",
    "        self.true_branch = true_branch  # поддерево, удовлетворяющее условию в узле\n",
    "        self.false_branch = false_branch  # поддерево, не удовлетворяющее условию в узле"
   ]
  },
  {
   "cell_type": "code",
   "execution_count": 66,
   "metadata": {},
   "outputs": [],
   "source": [
    "# И класс терминального узла (листа)\n",
    "\n",
    "class Leaf:\n",
    "    \n",
    "    def __init__(self, data, labels):\n",
    "        self.data = data\n",
    "        self.labels = labels\n",
    "        self.prediction = self.predict()\n",
    "        \n",
    "    def predict(self):\n",
    "        #  найдем значение как среднее по выборке   \n",
    "        prediction = np.mean(self.labels)\n",
    "        return prediction"
   ]
  },
  {
   "cell_type": "code",
   "execution_count": 76,
   "metadata": {},
   "outputs": [],
   "source": [
    "# Алгоритм построения дерева\n",
    "class Tree:\n",
    "\n",
    "    def __init__(self, max_depth=50):\n",
    "        self.max_depth = max_depth\n",
    "        self.tree = None\n",
    "\n",
    "  # Расчёт дисперсии значений\n",
    "    def dispersion(self, labels):\n",
    "        return np.std(labels)\n",
    "\n",
    "    def quality(self, left_labels, right_labels, current_dispersion):\n",
    "\n",
    "    # доля выбоки, ушедшая в левое поддерево\n",
    "        p = float(left_labels.shape[0]) / (left_labels.shape[0] + right_labels.shape[0])\n",
    "        return current_dispersion - p * self.dispersion(left_labels) - (1 - p) * self.dispersion(right_labels)\n",
    "\n",
    "    # Разбиение датасета в узле\n",
    "    def split(self, data, labels, index, t):\n",
    "    \n",
    "        left = np.where(data[:, index] <= t)\n",
    "        right = np.where(data[:, index] > t)\n",
    "        \n",
    "        true_data = data[left]\n",
    "        false_data = data[right]\n",
    "        true_labels = labels[left]\n",
    "        false_labels = labels[right]\n",
    "        \n",
    "        return true_data, false_data, true_labels, false_labels\n",
    "\n",
    "    # Нахождение наилучшего разбиения\n",
    "    def find_best_split(self, data, labels):\n",
    "    \n",
    "    # минимальное количество объектов в узле\n",
    "        min_leaf = 5\n",
    "\n",
    "        current_dispersion = self.dispersion(labels)\n",
    "\n",
    "        best_quality = 0\n",
    "        best_t = None\n",
    "        best_index = None\n",
    "    \n",
    "        n_features = data.shape[1]\n",
    "    \n",
    "        for index in range(n_features):\n",
    "      # будем проверять только уникальные значения признака, исключая повторения\n",
    "            t_values = np.unique([row[index] for row in data])\n",
    "      \n",
    "            for t in t_values:\n",
    "                true_data, false_data, true_labels, false_labels = self.split(data, labels, index, t)\n",
    "        #  пропускаем разбиения, в которых в узле остается менее 5 объектов\n",
    "                if len(true_data) < min_leaf or len(false_data) < min_leaf:\n",
    "                    continue\n",
    "        \n",
    "                current_quality = self.quality(true_labels, false_labels, current_dispersion)\n",
    "        \n",
    "        #  выбираем порог, на котором получается максимальный прирост качества\n",
    "                if current_quality > best_quality:\n",
    "                    best_quality, best_t, best_index = current_quality, t, index\n",
    "\n",
    "        return best_quality, best_t, best_index\n",
    "\n",
    "    # Построение дерева \n",
    "    def build_tree(self, data, labels, tree_depth, max_depth):\n",
    "\n",
    "        quality, t, index = self.find_best_split(data, labels)\n",
    "\n",
    "    #  Прекращаем рекурсию, когда нет прироста в качестве\n",
    "        if quality == 0:\n",
    "            return Leaf(data, labels)\n",
    "\n",
    "    # Прекращаем рекурсию, когда достигнута максимальная глубина дерева\n",
    "        if tree_depth >= max_depth:\n",
    "            return Leaf(data, labels)\n",
    "\n",
    "    # Увеличиваем глубину дерева на 1\n",
    "        tree_depth += 1\n",
    "\n",
    "        true_data, false_data, true_labels, false_labels = self.split(data, labels, index, t)\n",
    "\n",
    "    # Рекурсивно строим два поддерева\n",
    "        true_branch = self.build_tree(true_data, true_labels, tree_depth, max_depth)\n",
    "        false_branch = self.build_tree(false_data, false_labels, tree_depth, max_depth)\n",
    "\n",
    "    # Возвращаем класс узла со всеми поддеревьями\n",
    "        return Node(index, t, true_branch, false_branch)\n",
    "\n",
    "    def predict_object(self, obj, node):\n",
    "\n",
    "    #  Останавливаем рекурсию, если достигли листа\n",
    "        if isinstance(node, Leaf):\n",
    "            answer = node.prediction\n",
    "            return answer\n",
    "\n",
    "        if obj[node.index] <= node.t:\n",
    "            return self.predict_object(obj, node.true_branch)\n",
    "        else:\n",
    "            return self.predict_object(obj, node.false_branch)\n",
    "\n",
    "    def predict(self, data):\n",
    "        val = []\n",
    "        for obj in data:\n",
    "            prediction = self.predict_object(obj, self.tree)\n",
    "            val.append(prediction)\n",
    "        return val\n",
    "\n",
    "    def fit(self, data, labels):\n",
    "        self.tree = self.build_tree(data, labels, 0, self.max_depth)\n",
    "        return self\n"
   ]
  },
  {
   "cell_type": "code",
   "execution_count": 77,
   "metadata": {},
   "outputs": [],
   "source": [
    "# #Реализация градиентного бустинга\n",
    "\n",
    "class GradientBoosting:\n",
    "  \n",
    "    def __init__(self, n_trees, max_depth, coefs, eta):\n",
    "        self.n_trees = n_trees\n",
    "        self.max_depth = max_depth\n",
    "        self.coefs = coefs\n",
    "        self.eta = eta\n",
    "        self.trees = []\n",
    "\n",
    "    def bias(self, y, z):\n",
    "        return (y - z)\n",
    "\n",
    "    def fit(self, X_train, y_train):\n",
    "    \n",
    "        trees = []\n",
    "    \n",
    "        for i in range(self.n_trees):\n",
    "            tree = Tree(max_depth=self.max_depth)\n",
    "\n",
    "       # Первый алгоритм обучаем на выборке и добавляем в список\n",
    "            if len(self.trees) == 0:\n",
    "            # обучаем первое дерево на обучающей выборке\n",
    "                tree.fit(X_train, y_train)\n",
    "            else:\n",
    "            # Получим ответы на текущей композиции\n",
    "                target = self.predict(X_train)\n",
    "            \n",
    "            # алгоритмы начиная со второго обучаем на сдвиг\n",
    "                bias = self.bias(y_train, target)\n",
    "                tree.fit(X_train, bias)\n",
    "\n",
    "            self.trees.append(tree)\n",
    "        \n",
    "        return self\n",
    "    \n",
    "    def predict(self, X):\n",
    "    # Реализуемый алгоритм градиентного бустинга будет инициализироваться нулевыми значениями,\n",
    "    # поэтому все деревья из списка trees_list уже являются дополнительными и при предсказании прибавляются с шагом eta\n",
    "        return np.array([sum([self.eta* coef * alg.predict([x])[0] for alg, coef in zip(self.trees, self.coefs)]) for x in X])"
   ]
  },
  {
   "cell_type": "code",
   "execution_count": 78,
   "metadata": {},
   "outputs": [],
   "source": [
    "# Число деревьев в ансамбле\n",
    "n_trees = 30\n",
    "\n",
    "# для простоты примем коэффициенты равными 1\n",
    "coefs = [1] * n_trees\n",
    "\n",
    "# Максимальная глубина деревьев\n",
    "max_depth = 5\n",
    "\n",
    "# Шаг\n",
    "eta = 1"
   ]
  },
  {
   "cell_type": "code",
   "execution_count": 80,
   "metadata": {},
   "outputs": [
    {
     "name": "stdout",
     "output_type": "stream",
     "text": [
      "0.7937439354791632\n",
      "0.7737513864937398\n"
     ]
    }
   ],
   "source": [
    "gb = GradientBoosting(n_trees, max_depth, coefs, eta)\n",
    "gb.fit(X_train, y_train)\n",
    "train_gb = gb.predict(X_train)\n",
    "val_gb = gb.predict(X_val)\n",
    "print(r_2(train_gb, y_train))\n",
    "print(r_2(val_gb, y_val)) # У этой модели хорошие показатели"
   ]
  },
  {
   "cell_type": "code",
   "execution_count": 81,
   "metadata": {},
   "outputs": [],
   "source": [
    "# Преобразование данных в тестовом датасете\n",
    "X_num_test = df_test[num_features].values\n"
   ]
  },
  {
   "cell_type": "code",
   "execution_count": 82,
   "metadata": {},
   "outputs": [],
   "source": [
    "X_num_test[:,0] = minmax_scale(X_num_test[:,0])\n",
    "X_num_test[:,1] = minmax_scale(X_num_test[:,1])\n",
    "X_num_test[:,2] = minmax_scale(X_num_test[:,2])\n",
    "X_num_test[:,3] = minmax_scale(X_num_test[:,3])"
   ]
  },
  {
   "cell_type": "code",
   "execution_count": 83,
   "metadata": {},
   "outputs": [],
   "source": [
    "X_cat_test = df_test[cat_features].values"
   ]
  },
  {
   "cell_type": "code",
   "execution_count": 84,
   "metadata": {},
   "outputs": [],
   "source": [
    "X_test = np.concatenate([X_num_test, X_cat_test], axis=1) # numpy массив из данных обучаемой выборки"
   ]
  },
  {
   "cell_type": "code",
   "execution_count": 85,
   "metadata": {},
   "outputs": [
    {
     "data": {
      "text/plain": [
       "<__main__.GradientBoosting at 0x1b120a48>"
      ]
     },
     "execution_count": 85,
     "metadata": {},
     "output_type": "execute_result"
    }
   ],
   "source": [
    "#обучение на всех данных из обучающей выборки\n",
    "gb_all_train = GradientBoosting(n_trees, max_depth, coefs, eta)\n",
    "gb_all_train.fit(X, y)"
   ]
  },
  {
   "cell_type": "code",
   "execution_count": 87,
   "metadata": {},
   "outputs": [],
   "source": [
    "#Предсказания для тестового датасета\n",
    "predictions = gb_all_train.predict(X_test)"
   ]
  },
  {
   "cell_type": "code",
   "execution_count": 95,
   "metadata": {},
   "outputs": [],
   "source": [
    "test_data = pd.DataFrame(data = {'Id': df_test['Id'], 'mean_exam_points': pd.Series(predictions)})\n",
    "test_data.to_csv('AChernova_predictions_1.csv', index=False, sep=',')"
   ]
  },
  {
   "cell_type": "code",
   "execution_count": null,
   "metadata": {},
   "outputs": [],
   "source": []
  }
 ],
 "metadata": {
  "kernelspec": {
   "display_name": "Python 3",
   "language": "python",
   "name": "python3"
  },
  "language_info": {
   "codemirror_mode": {
    "name": "ipython",
    "version": 3
   },
   "file_extension": ".py",
   "mimetype": "text/x-python",
   "name": "python",
   "nbconvert_exporter": "python",
   "pygments_lexer": "ipython3",
   "version": "3.8.1"
  }
 },
 "nbformat": 4,
 "nbformat_minor": 4
}
