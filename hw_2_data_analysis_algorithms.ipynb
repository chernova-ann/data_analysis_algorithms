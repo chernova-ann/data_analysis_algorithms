{
 "cells": [
  {
   "cell_type": "code",
   "execution_count": 1,
   "metadata": {},
   "outputs": [],
   "source": [
    "import numpy as np\n",
    "from sklearn.datasets import make_regression\n",
    "from sklearn.linear_model import Lasso, Ridge\n",
    "from matplotlib import pyplot as plt\n",
    "import pandas as pd"
   ]
  },
  {
   "cell_type": "markdown",
   "metadata": {},
   "source": [
    "1. Сгенерировать датасет при помощи sklearn.datasets.make_regression и обучить линейную модель при помощи градиентного и стохастического градиентного спуска. Нанести среднеквадратичную ошибку для обоих методов на один график, сделать выводы о разнице скорости сходимости каждого из методов.\n",
    "\n",
    "2. Модифицировать решение первого задания путем добавления 𝐿2 -регуляризации и сравнить результаты.\n",
    "\n",
    "3 [опция]. Модернизировать решение задания 2, заменив L2 регуляризацию на L1 регуляризацию."
   ]
  },
  {
   "cell_type": "code",
   "execution_count": 136,
   "metadata": {},
   "outputs": [
    {
     "data": {
      "text/plain": [
       "((10, 1), (10,))"
      ]
     },
     "execution_count": 136,
     "metadata": {},
     "output_type": "execute_result"
    }
   ],
   "source": [
    "# generate regression dataset\n",
    "X, y = make_regression(n_samples=10, n_features=1, n_informative=2, noise=10)\n",
    "\n",
    "X.shape, y.shape"
   ]
  },
  {
   "cell_type": "code",
   "execution_count": 137,
   "metadata": {},
   "outputs": [
    {
     "data": {
      "text/plain": [
       "array([[-2.17331508,  1.4264109 ,  0.66595927, -0.38920715,  0.07323988,\n",
       "         0.93028432, -1.0553192 , -0.29962573,  0.60427822,  2.46547697]])"
      ]
     },
     "execution_count": 137,
     "metadata": {},
     "output_type": "execute_result"
    }
   ],
   "source": [
    "X = X.T\n",
    "X"
   ]
  },
  {
   "cell_type": "code",
   "execution_count": 138,
   "metadata": {},
   "outputs": [
    {
     "data": {
      "image/png": "[encoded data removed]",
      "text/plain": [
       "<Figure size 432x288 with 1 Axes>"
      ]
     },
     "metadata": {
      "needs_background": "light"
     },
     "output_type": "display_data"
    }
   ],
   "source": [
    "# plot regression dataset\n",
    "plt.scatter(X,y)\n",
    "plt.show()"
   ]
  },
  {
   "cell_type": "code",
   "execution_count": 55,
   "metadata": {},
   "outputs": [],
   "source": [
    "def calc_mse(y, y_pred):\n",
    "    err = np.mean((y - y_pred)**2)\n",
    "    return err"
   ]
  },
  {
   "cell_type": "code",
   "execution_count": 56,
   "metadata": {},
   "outputs": [],
   "source": [
    "def eval_model(X, y, iterations, alpha=1e-4):\n",
    "    W = np.random.randn(X.shape[0])\n",
    "    n = X.shape[1]\n",
    "    errors = []\n",
    "    for i in range(1, iterations+1):\n",
    "        y_pred = np.dot(W, X)\n",
    "        err = calc_mse(y, y_pred)\n",
    "        errors.append(err)\n",
    "        W -= (alpha * (1/n * 2 * np.dot((y_pred - y), X.T)))\n",
    "        if i % (iterations / 10) == 0:\n",
    "            print(i, W, err)\n",
    "    return W, errors\n",
    "\n",
    "def eval_sgd_model(X, y, iterations, qty_in_batch=1, alpha=1e-4):\n",
    "    W = np.random.randn(X.shape[0])\n",
    "    n = X.shape[1]\n",
    "    errors =[]\n",
    "    n_batch = n // qty_in_batch\n",
    "    if n % qty_in_batch != 0:\n",
    "        n_batch += 1\n",
    "\n",
    "    for i in range(1, iterations+1):\n",
    "        # эпоха обучения\n",
    "        for b in range(n_batch):\n",
    "            start_ = qty_in_batch*b\n",
    "            end_ = qty_in_batch*(b+1)\n",
    "\n",
    "            # print(b, n_batch, start_, end_)\n",
    "\n",
    "            X_tmp = X[:, start_ : end_]\n",
    "            y_tmp = y[start_ : end_]\n",
    "            y_pred_tmp = np.dot(W, X_tmp)\n",
    "            err = calc_mse(y_tmp, y_pred_tmp)\n",
    "            errors.append(err)\n",
    "            W -= (alpha * (1/n * 2 * np.dot((y_pred_tmp - y_tmp), X_tmp.T)))\n",
    "\n",
    "    if i % (iterations / 10) == 0:\n",
    "        print(i, W, err)\n",
    "        \n",
    "    return W, errors\n",
    "\n",
    "def eval_reg_l2_model(X, y, iterations, alpha=1e-4, lambda_=1e-8):\n",
    "    W = np.random.randn(X.shape[0])\n",
    "    n = X.shape[1]\n",
    "    errors = []\n",
    "    for i in range(1, iterations+1):\n",
    "        y_pred = np.dot(W, X)\n",
    "        err = calc_mse(y, y_pred)\n",
    "        errors.append(err)\n",
    "        W -= (alpha * (1/n * 2 * np.dot((y_pred - y), X.T))) + (lambda_*(W**2))\n",
    "        if i % (iterations / 10) == 0:\n",
    "            print(i, W, err)\n",
    "    return W, errors\n",
    "\n",
    "def eval_reg_l1_model(X, y, iterations, alpha=1e-4, lambda_=1e-8):\n",
    "    W = np.random.randn(X.shape[0])\n",
    "    n = X.shape[1]\n",
    "    errors = []\n",
    "    for i in range(1, iterations+1):\n",
    "        y_pred = np.dot(W, X)\n",
    "        err = calc_mse(y, y_pred)\n",
    "        errors.append(err)\n",
    "        W -= (alpha * (1/n * 2 * np.dot((y_pred - y), X.T))) + (lambda_*(W**2))\n",
    "        if i % (iterations / 10) == 0:\n",
    "            print(i, W, err)\n",
    "    return W, errors"
   ]
  },
  {
   "cell_type": "code",
   "execution_count": 140,
   "metadata": {},
   "outputs": [
    {
     "name": "stdout",
     "output_type": "stream",
     "text": [
      "150 [3.30366374] 138.80622357001965\n",
      "300 [5.78049788] 96.9368013564195\n",
      "450 [7.31790318] 80.80511127418822\n",
      "600 [8.27219198] 74.58980160066164\n",
      "750 [8.86453228] 72.19513159764786\n",
      "900 [9.23220612] 71.2724994643273\n",
      "1050 [9.46042637] 70.91702248738918\n",
      "1200 [9.60208585] 70.78006228779341\n",
      "1350 [9.69001585] 70.72729347999359\n",
      "1500 [9.74459522] 70.70696241239268\n"
     ]
    }
   ],
   "source": [
    "W_1, errors = eval_model(X, y, iterations=1500, alpha=1e-3)"
   ]
  },
  {
   "cell_type": "code",
   "execution_count": 141,
   "metadata": {
    "scrolled": false
   },
   "outputs": [
    {
     "name": "stdout",
     "output_type": "stream",
     "text": [
      "1500 [9.74488204] 70.70688070659455\n"
     ]
    }
   ],
   "source": [
    "W_2, errors_sgd = eval_sgd_model(X, y, iterations=1500, qty_in_batch=64, alpha=1e-3)"
   ]
  },
  {
   "cell_type": "code",
   "execution_count": 142,
   "metadata": {},
   "outputs": [
    {
     "name": "stdout",
     "output_type": "stream",
     "text": [
      "150 [4.40988728] 117.68443066422856\n",
      "300 [6.46676817] 88.80291005136881\n",
      "450 [7.74325939] 77.67536510511427\n",
      "600 [8.53541256] 73.38727393610651\n",
      "750 [9.0269875] 71.73419993059989\n",
      "900 [9.3320323] 71.09652409281485\n",
      "1050 [9.52132478] 70.85027974949051\n",
      "1200 [9.63878763] 70.75502788348932\n",
      "1350 [9.71167732] 70.71808190458253\n",
      "1500 [9.75690774] 70.70368907901364\n"
     ]
    }
   ],
   "source": [
    "W_3, errors_l2 = eval_reg_l2_model(X, y, iterations=1500, alpha=1e-3, lambda_=1e-7)"
   ]
  },
  {
   "cell_type": "code",
   "execution_count": 143,
   "metadata": {},
   "outputs": [
    {
     "name": "stdout",
     "output_type": "stream",
     "text": [
      "150 [3.43836908] 136.02516775863813\n",
      "300 [5.86382637] 95.86888012412935\n",
      "450 [7.36908289] 80.39790906997874\n",
      "600 [8.30321206] 74.43655117299963\n",
      "750 [8.88289519] 72.1387830425431\n",
      "900 [9.24261679] 71.25264586992489\n",
      "1050 [9.46583903] 70.9106009736259\n",
      "1200 [9.60435676] 70.77838199821196\n",
      "1350 [9.69031182] 70.72715326218791\n",
      "1500 [9.74364976] 70.70723086979352\n"
     ]
    }
   ],
   "source": [
    "W_4, errors_l1 = eval_reg_l1_model(X, y, iterations=1500, alpha=1e-3, lambda_=1e-7)"
   ]
  },
  {
   "cell_type": "code",
   "execution_count": 144,
   "metadata": {},
   "outputs": [
    {
     "data": {
      "text/plain": [
       "<matplotlib.legend.Legend at 0x14c98928>"
      ]
     },
     "execution_count": 144,
     "metadata": {},
     "output_type": "execute_result"
    },
    {
     "data": {
      "image/png": "[encoded data removed]",
      "text/plain": [
       "<Figure size 1440x720 with 1 Axes>"
      ]
     },
     "metadata": {
      "needs_background": "light"
     },
     "output_type": "display_data"
    }
   ],
   "source": [
    "fig = plt.figure(figsize=(20,10))\n",
    "plt.subplot(111)\n",
    "plt.plot(errors, linewidth=3, label='gradient descent')\n",
    "plt.plot(errors_sgd, linewidth=3, label='stochastic gradient descent')\n",
    "plt.plot(errors_l2, linewidth=3, label='gd l2')\n",
    "plt.plot(errors_l1, linewidth=3, label='gd l1')\n",
    "plt.xlabel('Iteration number')\n",
    "plt.ylabel('MSE')\n",
    "plt.legend()     "
   ]
  },
  {
   "cell_type": "markdown",
   "metadata": {},
   "source": [
    "Скорость стахостического градиентного спуска выше (оранжевая линия) градиентного спуска, за 1500 итераций достигнута самая минимальная ошибка. Самой медленной оказалась модель градиентного спуска (синяя линия). l2 быстрее, чем l1. "
   ]
  },
  {
   "cell_type": "code",
   "execution_count": null,
   "metadata": {},
   "outputs": [],
   "source": []
  }
 ],
 "metadata": {
  "kernelspec": {
   "display_name": "Python 3",
   "language": "python",
   "name": "python3"
  },
  "language_info": {
   "codemirror_mode": {
    "name": "ipython",
    "version": 3
   },
   "file_extension": ".py",
   "mimetype": "text/x-python",
   "name": "python",
   "nbconvert_exporter": "python",
   "pygments_lexer": "ipython3",
   "version": "3.8.1"
  }
 },
 "nbformat": 4,
 "nbformat_minor": 4
}
