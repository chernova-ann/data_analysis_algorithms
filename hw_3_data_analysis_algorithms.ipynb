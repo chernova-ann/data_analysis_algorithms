{
 "cells": [
  {
   "cell_type": "markdown",
   "metadata": {},
   "source": [
    "задание 1: Измените функцию calc_logloss так, чтобы нули по возможности не попадали в np.log.\n",
    "\n",
    "задание 2: Подберите аргументы функции eval_model для логистической регрессии таким образом, чтобы log loss был минимальным.\n",
    "\n",
    "задание 3: Создайте функцию calc_pred_proba, возвращающую предсказанную вероятность класса 1 (на вход подаются W, который уже посчитан функцией eval_model и X, на выходе - массив y_pred_proba).\n",
    "\n",
    "задание 4: Создайте функцию calc_pred, возвращающую предсказанный класс (на вход подаются W, который уже посчитан функцией eval_model и X, на выходе - массив y_pred).\n",
    "\n",
    "задание 5: Посчитайте Accuracy, матрицу ошибок, точность и полноту, а также F1 score.\n",
    "\n",
    "задание 6: Могла ли модель переобучиться? Почему?\n",
    "\n",
    "задание 7: (опция) Создайте функции eval_model_l1 и eval_model_l2 с применением L1 и L2 регуляризаций соответственно.\n"
   ]
  },
  {
   "cell_type": "code",
   "execution_count": 1,
   "metadata": {},
   "outputs": [],
   "source": [
    "import numpy as np\n",
    "import matplotlib.pyplot as plt\n",
    "from sklearn import datasets\n",
    "from matplotlib.colors import ListedColormap\n",
    "\n",
    "from sklearn.preprocessing import MinMaxScaler\n",
    "from sklearn.linear_model import LinearRegression\n",
    "from sklearn.metrics import mean_squared_error"
   ]
  },
  {
   "cell_type": "code",
   "execution_count": 2,
   "metadata": {},
   "outputs": [
    {
     "data": {
      "text/plain": [
       "<matplotlib.collections.PathCollection at 0x13f3fb08>"
      ]
     },
     "execution_count": 2,
     "metadata": {},
     "output_type": "execute_result"
    },
    {
     "data": {
      "image/png": "[encoded data removed]",
      "text/plain": [
       "<Figure size 576x576 with 1 Axes>"
      ]
     },
     "metadata": {
      "needs_background": "light"
     },
     "output_type": "display_data"
    }
   ],
   "source": [
    "# сгеренируем данные с помощью sklearn.datasets\n",
    "classes = datasets.make_classification(n_samples=100,\n",
    "                                       n_features=2,\n",
    "                                       n_informative=2,\n",
    "                                       n_redundant=0, \n",
    "                                       n_classes=2,\n",
    "                                       flip_y = 0.2,\n",
    "                                       weights = [0.833, 0.167],\n",
    "                                       random_state=1)\n",
    "\n",
    "# и изобразим их на графике\n",
    "colors = ListedColormap(['red', 'blue'])\n",
    "\n",
    "plt.figure(figsize=(8, 8))\n",
    "plt.scatter([x[0] for x in classes[0]], [x[1] for x in classes[0]], c=classes[1], cmap=colors)"
   ]
  },
  {
   "cell_type": "code",
   "execution_count": 3,
   "metadata": {},
   "outputs": [],
   "source": [
    "# перемешивание датасета\n",
    "np.random.seed(12)\n",
    "shuffle_index = np.random.permutation(classes[0].shape[0])\n",
    "X_shuffled, y_shuffled = classes[0][shuffle_index], classes[1][shuffle_index]"
   ]
  },
  {
   "cell_type": "code",
   "execution_count": 4,
   "metadata": {},
   "outputs": [
    {
     "name": "stdout",
     "output_type": "stream",
     "text": [
      "Размер массива признаков обучающей выборки (70, 2)\n",
      "Размер массива признаков тестовой выборки (30, 2)\n",
      "Размер массива ответов для обучающей выборки (70,)\n",
      "Размер массива ответов для тестовой выборки (30,)\n"
     ]
    }
   ],
   "source": [
    "# разбивка на обучающую и тестовую выборки\n",
    "train_proportion = 0.7\n",
    "train_test_cut = int(len(classes[0]) * train_proportion)\n",
    "\n",
    "X_train, X_test, y_train, y_test = \\\n",
    "    X_shuffled[:train_test_cut], \\\n",
    "    X_shuffled[train_test_cut:], \\\n",
    "    y_shuffled[:train_test_cut], \\\n",
    "    y_shuffled[train_test_cut:]\n",
    "    \n",
    "print(\"Размер массива признаков обучающей выборки\", X_train.shape)\n",
    "print(\"Размер массива признаков тестовой выборки\", X_test.shape)\n",
    "print(\"Размер массива ответов для обучающей выборки\", y_train.shape)\n",
    "print(\"Размер массива ответов для тестовой выборки\", y_test.shape)"
   ]
  },
  {
   "cell_type": "code",
   "execution_count": 5,
   "metadata": {},
   "outputs": [],
   "source": [
    "# Транспонируем в строки, так как удобнее работать со строками.\n",
    "X_train_tr = X_train.transpose()\n",
    "y_train_tr = y_train.reshape(1, y_train.shape[0])\n",
    "X_test_tr = X_test.transpose()\n",
    "y_test_tr = y_test.reshape(1, y_test.shape[0])"
   ]
  },
  {
   "cell_type": "code",
   "execution_count": 6,
   "metadata": {},
   "outputs": [],
   "source": [
    "def calc_logloss(W, X, y, eps=1e-6):\n",
    "    #eps малая ошибка\n",
    "    n = X.shape[1]\n",
    "    A = sigmoid(np.dot(W.T, X))\n",
    "    \n",
    "    dict_eps ={0: eps, 1: 1 - eps}\n",
    "    def mp(entry):\n",
    "        return dict_eps[entry] if entry in dict_eps else entry\n",
    "    mp = np.vectorize(mp)\n",
    "    A = mp(A)\n",
    "                \n",
    "    logloss = - np.mean(y * np.log(A) + (1.0 - y) * np.log(1.0 - A))\n",
    "       \n",
    "    return logloss\n"
   ]
  },
  {
   "cell_type": "code",
   "execution_count": 7,
   "metadata": {},
   "outputs": [],
   "source": [
    "def sigmoid(z):\n",
    "    return 1 / (1 + np.exp(-z))"
   ]
  },
  {
   "cell_type": "code",
   "execution_count": 8,
   "metadata": {},
   "outputs": [],
   "source": [
    "def eval_model(X, y, iterations, alpha=1e-3):\n",
    "\n",
    "    n = X.shape[1]\n",
    "    errors = []\n",
    "    np.random.seed(42)\n",
    "    W = np.random.randn(X.shape[0], 1)\n",
    "    \n",
    "    for i in range(iterations):\n",
    "        z = np.dot(W.T, X)\n",
    "        err = calc_logloss(W, X, y)\n",
    "        W = W - alpha * 1.0 / n * np.dot(X, (sigmoid(z) - y).T) \n",
    "        errors.append(err)\n",
    "                \n",
    "    return W, errors"
   ]
  },
  {
   "cell_type": "code",
   "execution_count": 9,
   "metadata": {},
   "outputs": [],
   "source": [
    "def calc_pred_proba(W, X):\n",
    "    y_pred_proba = sigmoid(W.T.dot(X))\n",
    "    return y_pred_proba"
   ]
  },
  {
   "cell_type": "code",
   "execution_count": 10,
   "metadata": {},
   "outputs": [],
   "source": [
    "def calc_pred(W, X, threshold = 0.5):\n",
    "    y_pred = calc_pred_proba(W,X)[0]\n",
    "    for i in range(len(y_pred)):\n",
    "        if y_pred[i] >= threshold:\n",
    "            y_pred[i] = 1\n",
    "        else: \n",
    "            y_pred[i] = 0\n",
    "    return y_pred"
   ]
  },
  {
   "cell_type": "code",
   "execution_count": 11,
   "metadata": {},
   "outputs": [],
   "source": [
    "def error_matrix(y, y_pred):\n",
    "    TP = ((y_pred == 1) & (y == 1)).sum()\n",
    "    FP = ((y_pred == 1) & (y == 0)).sum()\n",
    "    FN = ((y_pred == 0) & (y == 1)).sum()\n",
    "    TN = ((y_pred == 0) & (y == 0)).sum()\n",
    "    \n",
    "    return np.array([[TP, FP], [FN, TN]])"
   ]
  },
  {
   "cell_type": "code",
   "execution_count": 12,
   "metadata": {},
   "outputs": [],
   "source": [
    "def classification_metric(y, y_pred):\n",
    "    TP = ((y_pred == 1) & (y == 1)).sum()\n",
    "    FP = ((y_pred == 1) & (y == 0)).sum()\n",
    "    FN = ((y_pred == 0) & (y == 1)).sum()\n",
    "    TN = ((y_pred == 1) & (y == 0)).sum()\n",
    "    \n",
    "    precision = TP / (TP + FP)\n",
    "    recall = TP / (TP + FN)\n",
    "    F1_score = 2 * precision * recall / (precision + recall)\n",
    "    \n",
    "    return precision, recall, F1_score"
   ]
  },
  {
   "cell_type": "code",
   "execution_count": 13,
   "metadata": {},
   "outputs": [],
   "source": [
    "arguments = {\"alpha\": [1e-2, 1e-3, 1e-5],\n",
    "             \"iters\": [1000, 10000, 100000],\n",
    "            \"lambda_\": [1e-2, 1e-4]}"
   ]
  },
  {
   "cell_type": "code",
   "execution_count": 14,
   "metadata": {},
   "outputs": [
    {
     "name": "stdout",
     "output_type": "stream",
     "text": [
      "1\n",
      "Количество итераций: 1000, скорость: 0.01\n",
      "True\n",
      "Минимальный logloss = 0.3184709367491455\n",
      "Итоговый вектор весов W: [[1.74580801]\n",
      " [0.02973614]]\n",
      "Точность на обучающей выборке: 90.000\n",
      "Точность на тестовой выборке: 86.667\n",
      "2\n",
      "Количество итераций: 1000, скорость: 0.001\n",
      "True\n",
      "Минимальный logloss = 0.4495428961015966\n",
      "Итоговый вектор весов W: [[ 0.75308976]\n",
      " [-0.10141324]]\n",
      "Точность на обучающей выборке: 90.000\n",
      "Точность на тестовой выборке: 86.667\n",
      "3\n",
      "Количество итераций: 1000, скорость: 1e-05\n",
      "True\n",
      "Минимальный logloss = 0.5160671131097354\n",
      "Итоговый вектор весов W: [[ 0.49961779]\n",
      " [-0.13783989]]\n",
      "Точность на обучающей выборке: 88.571\n",
      "Точность на тестовой выборке: 86.667\n",
      "4\n",
      "Количество итераций: 10000, скорость: 0.01\n",
      "True\n",
      "Минимальный logloss = 0.3031717509914237\n",
      "Итоговый вектор весов W: [[2.35373242]\n",
      " [0.12419871]]\n",
      "Точность на обучающей выборке: 90.000\n",
      "Точность на тестовой выборке: 86.667\n",
      "5\n",
      "Количество итераций: 10000, скорость: 0.001\n",
      "True\n",
      "Минимальный logloss = 0.31846669871114636\n",
      "Итоговый вектор весов W: [[1.74539813]\n",
      " [0.02968056]]\n",
      "Точность на обучающей выборке: 90.000\n",
      "Точность на тестовой выборке: 86.667\n",
      "6\n",
      "Количество итераций: 10000, скорость: 1e-05\n",
      "True\n",
      "Минимальный logloss = 0.508520232929127\n",
      "Итоговый вектор весов W: [[ 0.52540583]\n",
      " [-0.13407681]]\n",
      "Точность на обучающей выборке: 88.571\n",
      "Точность на тестовой выборке: 86.667\n",
      "7\n",
      "Количество итераций: 100000, скорость: 0.01\n",
      "False\n",
      "Минимальный logloss = 0.3031717002334941\n",
      "Итоговый вектор весов W: [[2.35494756]\n",
      " [0.12444281]]\n",
      "Точность на обучающей выборке: 90.000\n",
      "Точность на тестовой выборке: 86.667\n",
      "8\n",
      "Количество итераций: 100000, скорость: 0.001\n",
      "True\n",
      "Минимальный logloss = 0.3031717511783452\n",
      "Итоговый вектор весов W: [[2.35372946]\n",
      " [0.12419811]]\n",
      "Точность на обучающей выборке: 90.000\n",
      "Точность на тестовой выборке: 86.667\n",
      "9\n",
      "Количество итераций: 100000, скорость: 1e-05\n",
      "True\n",
      "Минимальный logloss = 0.4494978559479885\n",
      "Итоговый вектор весов W: [[ 0.75306155]\n",
      " [-0.10141778]]\n",
      "Точность на обучающей выборке: 90.000\n",
      "Точность на тестовой выборке: 86.667\n"
     ]
    },
    {
     "data": {
      "image/png": "[encoded data removed]",
      "text/plain": [
       "<Figure size 432x288 with 1 Axes>"
      ]
     },
     "metadata": {
      "needs_background": "light"
     },
     "output_type": "display_data"
    }
   ],
   "source": [
    "k = 0\n",
    "for i in range(len(arguments['iters'])):\n",
    "    for j in range(len(arguments['alpha'])):\n",
    "        W, errors = eval_model(X_train_tr, y_train_tr, iterations=arguments['iters'][i], alpha = arguments['alpha'][j])\n",
    "        y_predicted_test = calc_pred(W, X_test_tr)\n",
    "        y_predicted_train = calc_pred(W, X_train_tr)\n",
    "              \n",
    "        # В качестве меры точности возьмем долю правильных ответов\n",
    "        train_accuracy = 100.0 - np.mean(np.abs(y_predicted_train - y_train_tr)*100.0)\n",
    "        test_accuracy = 100.0 - np.mean(np.abs(y_predicted_test-y_test_tr)*100.0)\n",
    "        k += 1\n",
    "        print(k)\n",
    "        print(f\"Количество итераций: {arguments['iters'][i]}, скорость: {arguments['alpha'][j]}\")\n",
    "        print(f\"{errors[-1]==min(errors)}\") # Проверяем гипотезу, что последний элемент и есть минимальный, так как логарифмическая функция монотонно убывает.\n",
    "        print(f\"Минимальный logloss = {min(errors)}\")\n",
    "        print(f\"Итоговый вектор весов W: {W}\")\n",
    "        print(f\"Точность на обучающей выборке: {train_accuracy:.3f}\")\n",
    "        print(f\"Точность на тестовой выборке: {test_accuracy:.3f}\")\n",
    "        plt.title('Log loss')\n",
    "        plt.xlabel('iterations')\n",
    "        plt.ylabel('loss')\n",
    "        plt.plot(range(len(errors)), errors)"
   ]
  },
  {
   "cell_type": "markdown",
   "metadata": {},
   "source": [
    "Чем выше logloss, тем ниже точность обучающего теста. При самой малой скорости alpha = 1e-5 модель обучается медленно, и при 100000 итерациях она все еще стремится к минимальному значению logloss. Это никак не улучшает точность модели, но увеличивает время её выполнения.\n",
    "Минимальный logloss = 0.303171700 наблюдается при количестве итераций: 100000, alpha = 0.01 (модель 7).\n",
    "\n",
    "При количестве итераций: 10000, alpha = 0.01 минимальный logloss = 0.303171750. Что практически не отличается от модели 7, поэтому модель под номер 4 можно считать наиболее оптимальной, так как она занимает меньше времени из-за меньшего количества иттераций.\n"
   ]
  },
  {
   "cell_type": "markdown",
   "metadata": {},
   "source": [
    "Модель не может переобучится, потому что логарифмическая функция монотонно убывает."
   ]
  },
  {
   "cell_type": "code",
   "execution_count": 15,
   "metadata": {},
   "outputs": [
    {
     "data": {
      "text/plain": [
       "array([[11,  3],\n",
       "       [ 4, 52]])"
      ]
     },
     "execution_count": 15,
     "metadata": {},
     "output_type": "execute_result"
    }
   ],
   "source": [
    "error_matrix(y_train_tr, y_predicted_train)"
   ]
  },
  {
   "cell_type": "code",
   "execution_count": 16,
   "metadata": {},
   "outputs": [
    {
     "data": {
      "text/plain": [
       "array([[ 1,  1],\n",
       "       [ 3, 25]])"
      ]
     },
     "execution_count": 16,
     "metadata": {},
     "output_type": "execute_result"
    }
   ],
   "source": [
    "error_matrix(y_test_tr, y_predicted_test)"
   ]
  },
  {
   "cell_type": "code",
   "execution_count": 17,
   "metadata": {},
   "outputs": [
    {
     "name": "stdout",
     "output_type": "stream",
     "text": [
      "0.5 0.25 0.3333333333333333\n",
      "0.7857142857142857 0.7333333333333333 0.7586206896551724\n"
     ]
    }
   ],
   "source": [
    "precision_test, recall_test, F1_score_test = classification_metric(y_test_tr, y_predicted_test)\n",
    "print(precision_test, recall_test, F1_score_test)\n",
    "precision, recall, F1_score = classification_metric(y_train_tr, y_predicted_train)\n",
    "print(precision, recall, F1_score)"
   ]
  },
  {
   "cell_type": "code",
   "execution_count": 18,
   "metadata": {},
   "outputs": [],
   "source": [
    "def eval_model_l1(X, y, iterations, alpha=1e-3, lambda_=1e-6):\n",
    "\n",
    "    n = X.shape[1]\n",
    "    errors = []\n",
    "    np.random.seed(42)\n",
    "    W = np.random.randn(X.shape[0], 1)\n",
    "    \n",
    "    for i in range(iterations):\n",
    "        z = np.dot(W.T, X)\n",
    "        err = calc_logloss(W, X, y)\n",
    "        W = W - alpha * 1.0 / n * np.dot(X, (sigmoid(z) - y).T) + (lambda_*np.sign(W))\n",
    "        errors.append(err)\n",
    "                \n",
    "    return W, errors"
   ]
  },
  {
   "cell_type": "code",
   "execution_count": 19,
   "metadata": {},
   "outputs": [],
   "source": [
    "def eval_model_l2(X, y, iterations, alpha=1e-3, lambda_=1e-6):\n",
    "\n",
    "    n = X.shape[1]\n",
    "    errors = []\n",
    "    np.random.seed(42)\n",
    "    W = np.random.randn(X.shape[0], 1)\n",
    "    \n",
    "    for i in range(iterations):\n",
    "        z = np.dot(W.T, X)\n",
    "        err = calc_logloss(W, X, y)\n",
    "        W = W - alpha * 1.0 / n * np.dot(X, (sigmoid(z) - y).T) + (lambda_*W)\n",
    "        errors.append(err)\n",
    "                \n",
    "    return W, errors"
   ]
  },
  {
   "cell_type": "code",
   "execution_count": 20,
   "metadata": {},
   "outputs": [
    {
     "name": "stdout",
     "output_type": "stream",
     "text": [
      "1\n",
      "Количество итераций: 1000, скорость: 0.01, лямбда: 0.01\n",
      "Минимальный logloss = 0.31844154683472337\n",
      "Итоговый вектор весов W: [[1.74633893]\n",
      " [0.02983463]]\n",
      "Точность на обучающей выборке: 90.000\n",
      "Точность на тестовой выборке: 86.667\n",
      "2\n",
      "Количество итераций: 1000, скорость: 0.01, лямбда: 0.0001\n",
      "Минимальный logloss = 0.31844154683472337\n",
      "Итоговый вектор весов W: [[1.74633893]\n",
      " [0.02983463]]\n",
      "Точность на обучающей выборке: 90.000\n",
      "Точность на тестовой выборке: 86.667\n",
      "3\n",
      "Количество итераций: 1000, скорость: 0.001, лямбда: 0.01\n",
      "Минимальный logloss = 0.449370734909665\n",
      "Итоговый вектор весов W: [[ 0.75397575]\n",
      " [-0.10228261]]\n",
      "Точность на обучающей выборке: 90.000\n",
      "Точность на тестовой выборке: 86.667\n",
      "4\n",
      "Количество итераций: 1000, скорость: 0.001, лямбда: 0.0001\n",
      "Минимальный logloss = 0.449370734909665\n",
      "Итоговый вектор весов W: [[ 0.75397575]\n",
      " [-0.10228261]]\n",
      "Точность на обучающей выборке: 90.000\n",
      "Точность на тестовой выборке: 86.667\n",
      "5\n",
      "Количество итераций: 1000, скорость: 1e-05, лямбда: 0.01\n",
      "Минимальный logloss = 0.5158203636191311\n",
      "Итоговый вектор весов W: [[ 0.50061646]\n",
      " [-0.13883841]]\n",
      "Точность на обучающей выборке: 88.571\n",
      "Точность на тестовой выборке: 86.667\n",
      "6\n",
      "Количество итераций: 1000, скорость: 1e-05, лямбда: 0.0001\n",
      "Минимальный logloss = 0.5158203636191311\n",
      "Итоговый вектор весов W: [[ 0.50061646]\n",
      " [-0.13883841]]\n",
      "Точность на обучающей выборке: 88.571\n",
      "Точность на тестовой выборке: 86.667\n",
      "7\n",
      "Количество итераций: 10000, скорость: 0.01, лямбда: 0.01\n",
      "Минимальный logloss = 0.3031717193122718\n",
      "Итоговый вектор весов W: [[2.35537369]\n",
      " [0.12502541]]\n",
      "Точность на обучающей выборке: 90.000\n",
      "Точность на тестовой выборке: 86.667\n",
      "8\n",
      "Количество итераций: 10000, скорость: 0.01, лямбда: 0.0001\n",
      "Минимальный logloss = 0.3031717193122718\n",
      "Итоговый вектор весов W: [[2.35537369]\n",
      " [0.12502541]]\n",
      "Точность на обучающей выборке: 90.000\n",
      "Точность на тестовой выборке: 86.667\n",
      "9\n",
      "Количество итераций: 10000, скорость: 0.001, лямбда: 0.01\n",
      "Минимальный logloss = 0.31817676386879423\n",
      "Итоговый вектор весов W: [[1.75069692]\n",
      " [0.03036585]]\n",
      "Точность на обучающей выборке: 90.000\n",
      "Точность на тестовой выборке: 86.667\n",
      "10\n",
      "Количество итераций: 10000, скорость: 0.001, лямбда: 0.0001\n",
      "Минимальный logloss = 0.31817676386879423\n",
      "Итоговый вектор весов W: [[1.75069692]\n",
      " [0.03036585]]\n",
      "Точность на обучающей выборке: 90.000\n",
      "Точность на тестовой выборке: 86.667\n",
      "11\n",
      "Количество итераций: 10000, скорость: 1e-05, лямбда: 0.01\n",
      "Минимальный logloss = 0.506159785997567\n",
      "Итоговый вектор весов W: [[ 0.53527501]\n",
      " [-0.14393112]]\n",
      "Точность на обучающей выборке: 88.571\n",
      "Точность на тестовой выборке: 86.667\n",
      "12\n",
      "Количество итераций: 10000, скорость: 1e-05, лямбда: 0.0001\n",
      "Минимальный logloss = 0.506159785997567\n",
      "Итоговый вектор весов W: [[ 0.53527501]\n",
      " [-0.14393112]]\n",
      "Точность на обучающей выборке: 88.571\n",
      "Точность на тестовой выборке: 86.667\n",
      "13\n",
      "Количество итераций: 100000, скорость: 0.01, лямбда: 0.01\n",
      "Минимальный logloss = 0.3031717193122718\n",
      "Итоговый вектор весов W: [[2.35660294]\n",
      " [0.12527293]]\n",
      "Точность на обучающей выборке: 90.000\n",
      "Точность на тестовой выборке: 86.667\n",
      "14\n",
      "Количество итераций: 100000, скорость: 0.01, лямбда: 0.0001\n",
      "Минимальный logloss = 0.3031717193122718\n",
      "Итоговый вектор весов W: [[2.35660294]\n",
      " [0.12527293]]\n",
      "Точность на обучающей выборке: 90.000\n",
      "Точность на тестовой выборке: 86.667\n",
      "15\n",
      "Количество итераций: 100000, скорость: 0.001, лямбда: 0.01\n",
      "Минимальный logloss = 0.3031736039472486\n",
      "Итоговый вектор весов W: [[2.37027962]\n",
      " [0.1325236 ]]\n",
      "Точность на обучающей выборке: 90.000\n",
      "Точность на тестовой выборке: 86.667\n",
      "16\n",
      "Количество итераций: 100000, скорость: 0.001, лямбда: 0.0001\n",
      "Минимальный logloss = 0.3031736039472486\n",
      "Итоговый вектор весов W: [[2.37027962]\n",
      " [0.1325236 ]]\n",
      "Точность на обучающей выборке: 90.000\n",
      "Точность на тестовой выборке: 86.667\n",
      "17\n",
      "Количество итераций: 100000, скорость: 1e-05, лямбда: 0.01\n",
      "Минимальный logloss = 0.4341712378967037\n",
      "Итоговый вектор весов W: [[ 0.84190816]\n",
      " [-0.18862041]]\n",
      "Точность на обучающей выборке: 88.571\n",
      "Точность на тестовой выборке: 86.667\n",
      "18\n",
      "Количество итераций: 100000, скорость: 1e-05, лямбда: 0.0001\n",
      "Минимальный logloss = 0.4341712378967037\n",
      "Итоговый вектор весов W: [[ 0.84190816]\n",
      " [-0.18862041]]\n",
      "Точность на обучающей выборке: 88.571\n",
      "Точность на тестовой выборке: 86.667\n"
     ]
    }
   ],
   "source": [
    "k = 0\n",
    "for i in range(len(arguments['iters'])):\n",
    "    for j in range(len(arguments['alpha'])):\n",
    "        for h in range(len(arguments['lambda_'])):\n",
    "            W, errors = eval_model_l1(X_train_tr, y_train_tr, iterations=arguments['iters'][i], alpha = arguments['alpha'][j])\n",
    "            y_predicted_test = calc_pred(W, X_test_tr)\n",
    "            y_predicted_train = calc_pred(W, X_train_tr)\n",
    "            train_accuracy = 100.0 - np.mean(np.abs(y_predicted_train - y_train_tr)*100.0)\n",
    "            test_accuracy = 100.0 - np.mean(np.abs(y_predicted_test-y_test_tr)*100.0)\n",
    "            k += 1\n",
    "            print(k)\n",
    "            print(f\"Количество итераций: {arguments['iters'][i]}, скорость: {arguments['alpha'][j]}, лямбда: {arguments['lambda_'][h]}\")\n",
    "            print(f\"Минимальный logloss = {min(errors)}\")\n",
    "            print(f\"Итоговый вектор весов W: {W}\")\n",
    "            print(f\"Точность на обучающей выборке: {train_accuracy:.3f}\")\n",
    "            print(f\"Точность на тестовой выборке: {test_accuracy:.3f}\")\n"
   ]
  },
  {
   "cell_type": "code",
   "execution_count": 21,
   "metadata": {},
   "outputs": [
    {
     "name": "stdout",
     "output_type": "stream",
     "text": [
      "1\n",
      "Количество итераций: 1000, скорость: 0.01, лямбда: 0.01\n",
      "Минимальный logloss = 0.31842906238720237\n",
      "Итоговый вектор весов W: [[1.74658039]\n",
      " [0.02975802]]\n",
      "Точность на обучающей выборке: 90.000\n",
      "Точность на тестовой выборке: 86.667\n",
      "2\n",
      "Количество итераций: 1000, скорость: 0.01, лямбда: 0.0001\n",
      "Минимальный logloss = 0.31842906238720237\n",
      "Итоговый вектор весов W: [[1.74658039]\n",
      " [0.02975802]]\n",
      "Точность на обучающей выборке: 90.000\n",
      "Точность на тестовой выборке: 86.667\n",
      "3\n",
      "Количество итераций: 1000, скорость: 0.001, лямбда: 0.01\n",
      "Минимальный logloss = 0.44941902226750136\n",
      "Итоговый вектор весов W: [[ 0.75365316]\n",
      " [-0.10151586]]\n",
      "Точность на обучающей выборке: 90.000\n",
      "Точность на тестовой выборке: 86.667\n",
      "4\n",
      "Количество итераций: 1000, скорость: 0.001, лямбда: 0.0001\n",
      "Минимальный logloss = 0.44941902226750136\n",
      "Итоговый вектор весов W: [[ 0.75365316]\n",
      " [-0.10151586]]\n",
      "Точность на обучающей выборке: 90.000\n",
      "Точность на тестовой выборке: 86.667\n",
      "5\n",
      "Количество итераций: 1000, скорость: 1e-05, лямбда: 0.01\n",
      "Минимальный logloss = 0.5159287961864057\n",
      "Итоговый вектор весов W: [[ 0.50011554]\n",
      " [-0.1379778 ]]\n",
      "Точность на обучающей выборке: 88.571\n",
      "Точность на тестовой выборке: 86.667\n",
      "6\n",
      "Количество итераций: 1000, скорость: 1e-05, лямбда: 0.0001\n",
      "Минимальный logloss = 0.5159287961864057\n",
      "Итоговый вектор весов W: [[ 0.50011554]\n",
      " [-0.1379778 ]]\n",
      "Точность на обучающей выборке: 88.571\n",
      "Точность на тестовой выборке: 86.667\n",
      "7\n",
      "Количество итераций: 10000, скорость: 0.01, лямбда: 0.01\n",
      "Минимальный logloss = 0.30317170384125797\n",
      "Итоговый вектор весов W: [[2.35721402]\n",
      " [0.1246813 ]]\n",
      "Точность на обучающей выборке: 90.000\n",
      "Точность на тестовой выборке: 86.667\n",
      "8\n",
      "Количество итераций: 10000, скорость: 0.01, лямбда: 0.0001\n",
      "Минимальный logloss = 0.30317170384125797\n",
      "Итоговый вектор весов W: [[2.35721402]\n",
      " [0.1246813 ]]\n",
      "Точность на обучающей выборке: 90.000\n",
      "Точность на тестовой выборке: 86.667\n",
      "9\n",
      "Количество итераций: 10000, скорость: 0.001, лямбда: 0.01\n",
      "Минимальный logloss = 0.31804932417439674\n",
      "Итоговый вектор весов W: [[1.75314793]\n",
      " [0.02990004]]\n",
      "Точность на обучающей выборке: 90.000\n",
      "Точность на тестовой выборке: 86.667\n",
      "10\n",
      "Количество итераций: 10000, скорость: 0.001, лямбда: 0.0001\n",
      "Минимальный logloss = 0.31804932417439674\n",
      "Итоговый вектор весов W: [[1.75314793]\n",
      " [0.02990004]]\n",
      "Точность на обучающей выборке: 90.000\n",
      "Точность на тестовой выборке: 86.667\n",
      "11\n",
      "Количество итераций: 10000, скорость: 1e-05, лямбда: 0.01\n",
      "Минимальный logloss = 0.5071442557525006\n",
      "Итоговый вектор весов W: [[ 0.53047558]\n",
      " [-0.13542527]]\n",
      "Точность на обучающей выборке: 88.571\n",
      "Точность на тестовой выборке: 86.667\n",
      "12\n",
      "Количество итераций: 10000, скорость: 1e-05, лямбда: 0.0001\n",
      "Минимальный logloss = 0.5071442557525006\n",
      "Итоговый вектор весов W: [[ 0.53047558]\n",
      " [-0.13542527]]\n",
      "Точность на обучающей выборке: 88.571\n",
      "Точность на тестовой выборке: 86.667\n",
      "13\n",
      "Количество итераций: 100000, скорость: 0.01, лямбда: 0.01\n",
      "Минимальный logloss = 0.30317170384125797\n",
      "Итоговый вектор весов W: [[2.35846781]\n",
      " [0.12493339]]\n",
      "Точность на обучающей выборке: 90.000\n",
      "Точность на тестовой выборке: 86.667\n",
      "14\n",
      "Количество итераций: 100000, скорость: 0.01, лямбда: 0.0001\n",
      "Минимальный logloss = 0.30317170384125797\n",
      "Итоговый вектор весов W: [[2.35846781]\n",
      " [0.12493339]]\n",
      "Точность на обучающей выборке: 90.000\n",
      "Точность на тестовой выборке: 86.667\n",
      "15\n",
      "Количество итераций: 100000, скорость: 0.001, лямбда: 0.01\n",
      "Минимальный logloss = 0.303172036942601\n",
      "Итоговый вектор весов W: [[2.38950826]\n",
      " [0.12920911]]\n",
      "Точность на обучающей выборке: 90.000\n",
      "Точность на тестовой выборке: 86.667\n",
      "16\n",
      "Количество итераций: 100000, скорость: 0.001, лямбда: 0.0001\n",
      "Минимальный logloss = 0.303172036942601\n",
      "Итоговый вектор весов W: [[2.38950826]\n",
      " [0.12920911]]\n",
      "Точность на обучающей выборке: 90.000\n",
      "Точность на тестовой выборке: 86.667\n",
      "17\n",
      "Количество итераций: 100000, скорость: 1e-05, лямбда: 0.01\n",
      "Минимальный logloss = 0.43694294511331594\n",
      "Итоговый вектор весов W: [[ 0.81203633]\n",
      " [-0.11222112]]\n",
      "Точность на обучающей выборке: 90.000\n",
      "Точность на тестовой выборке: 86.667\n",
      "18\n",
      "Количество итераций: 100000, скорость: 1e-05, лямбда: 0.0001\n",
      "Минимальный logloss = 0.43694294511331594\n",
      "Итоговый вектор весов W: [[ 0.81203633]\n",
      " [-0.11222112]]\n",
      "Точность на обучающей выборке: 90.000\n",
      "Точность на тестовой выборке: 86.667\n"
     ]
    }
   ],
   "source": [
    "k = 0\n",
    "for i in range(len(arguments['iters'])):\n",
    "    for j in range(len(arguments['alpha'])):\n",
    "        for h in range(len(arguments['lambda_'])):\n",
    "            W, errors = eval_model_l2(X_train_tr, y_train_tr, iterations=arguments['iters'][i], alpha = arguments['alpha'][j])\n",
    "            y_predicted_test = calc_pred(W, X_test_tr)\n",
    "            y_predicted_train = calc_pred(W, X_train_tr)\n",
    "            train_accuracy = 100.0 - np.mean(np.abs(y_predicted_train - y_train_tr)*100.0)\n",
    "            test_accuracy = 100.0 - np.mean(np.abs(y_predicted_test-y_test_tr)*100.0)\n",
    "            k += 1\n",
    "            print(k)\n",
    "            print(f\"Количество итераций: {arguments['iters'][i]}, скорость: {arguments['alpha'][j]}, лямбда: {arguments['lambda_'][h]}\")\n",
    "            print(f\"Минимальный logloss = {min(errors)}\")\n",
    "            print(f\"Итоговый вектор весов W: {W}\")\n",
    "            print(f\"Точность на обучающей выборке: {train_accuracy:.3f}\")\n",
    "            print(f\"Точность на тестовой выборке: {test_accuracy:.3f}\")"
   ]
  },
  {
   "cell_type": "markdown",
   "metadata": {},
   "source": [
    "При применении регуляризации l1 и l2 разница незначительная."
   ]
  },
  {
   "cell_type": "code",
   "execution_count": null,
   "metadata": {},
   "outputs": [],
   "source": []
  }
 ],
 "metadata": {
  "kernelspec": {
   "display_name": "Python 3",
   "language": "python",
   "name": "python3"
  },
  "language_info": {
   "codemirror_mode": {
    "name": "ipython",
    "version": 3
   },
   "file_extension": ".py",
   "mimetype": "text/x-python",
   "name": "python",
   "nbconvert_exporter": "python",
   "pygments_lexer": "ipython3",
   "version": "3.8.1"
  }
 },
 "nbformat": 4,
 "nbformat_minor": 4
}
