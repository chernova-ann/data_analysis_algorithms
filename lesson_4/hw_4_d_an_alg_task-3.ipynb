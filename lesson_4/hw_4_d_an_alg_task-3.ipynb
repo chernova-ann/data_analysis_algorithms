{
 "cells": [
  {
   "cell_type": "markdown",
   "metadata": {},
   "source": [
    "3 [опция]. Реализуйте дерево для задачи регрессии. Возьмите за основу дерево, реализованное в методичке, заменив механизм предсказания в листе на взятие среднего значения по выборке, и критерий Джини на дисперсию значений."
   ]
  },
  {
   "cell_type": "code",
   "execution_count": 1,
   "metadata": {},
   "outputs": [],
   "source": [
    "import matplotlib.pyplot as plt\n",
    "import random\n",
    "\n",
    "from matplotlib.colors import ListedColormap\n",
    "from sklearn import datasets\n",
    "from sklearn import model_s\n",
    "election\n",
    "\n",
    "import numpy as np"
   ]
  },
  {
   "cell_type": "code",
   "execution_count": 2,
   "metadata": {},
   "outputs": [],
   "source": [
    "class Leaf:\n",
    "    \n",
    "    def __init__(self, data, labels):\n",
    "        self.data = data\n",
    "        self.labels = labels  # y_true\n",
    "        self.prediction = self.predict()  # y_pred\n",
    "        \n",
    "    def predict(self):\n",
    "        #  найдем среднее значение по выборке\n",
    "        prediction = np.mean(self.labels)\n",
    "        return prediction\n",
    "\n"
   ]
  },
  {
   "cell_type": "code",
   "execution_count": 3,
   "metadata": {},
   "outputs": [],
   "source": [
    "#Расчет критерия с дисперсией.\n",
    "def var_(labels):\n",
    "    impurity = np.var(labels)\n",
    "    return impurity\n"
   ]
  },
  {
   "cell_type": "code",
   "execution_count": 4,
   "metadata": {},
   "outputs": [],
   "source": [
    "# Реализуем класс узла\n",
    "\n",
    "class Node:\n",
    "    \n",
    "    def __init__(self, index, t, true_branch, false_branch):\n",
    "        self.index = index  # индекс признака, по которому ведется сравнение с порогом в этом узле\n",
    "        self.t = t  # значение порога\n",
    "        self.true_branch = true_branch  # поддерево, удовлетворяющее условию в узле\n",
    "        self.false_branch = false_branch  # поддерево, не удовлетворяющее условию в узле"
   ]
  },
  {
   "cell_type": "code",
   "execution_count": 5,
   "metadata": {},
   "outputs": [],
   "source": [
    "# Расчет качества\n",
    "\n",
    "def quality(left_labels, right_labels, current_criterion, criterion):\n",
    "\n",
    "    # доля выбоки, ушедшая в левое поддерево\n",
    "    p = float(left_labels.shape[0]) / (left_labels.shape[0] + right_labels.shape[0])\n",
    "    \n",
    "    return current_criterion- p * criterion(left_labels) - (1 - p) * criterion(right_labels)"
   ]
  },
  {
   "cell_type": "code",
   "execution_count": 6,
   "metadata": {},
   "outputs": [],
   "source": [
    "# Разбиение датасета в узле\n",
    "\n",
    "def split(data, labels, index, t):\n",
    "    \n",
    "    left = np.where(data[:, index] <= t)\n",
    "    right = np.where(data[:, index] > t)\n",
    "        \n",
    "    true_data = data[left]\n",
    "    false_data = data[right]\n",
    "    true_labels = labels[left]\n",
    "    false_labels = labels[right]\n",
    "        \n",
    "    return true_data, false_data, true_labels, false_labels"
   ]
  },
  {
   "cell_type": "code",
   "execution_count": 7,
   "metadata": {},
   "outputs": [],
   "source": [
    "# Нахождение наилучшего разбиения\n",
    "\n",
    "def find_best_split(data, labels, criterion):\n",
    "    \n",
    "    #  обозначим минимальное количество объектов в узле\n",
    "    min_leaf = 5\n",
    "\n",
    "    current_criterion = criterion(labels)\n",
    "\n",
    "    best_quality = 0\n",
    "    best_t = None\n",
    "    best_index = None\n",
    "    \n",
    "    n_features = data.shape[1]\n",
    "    \n",
    "    for index in range(n_features):\n",
    "        # будем проверять только уникальные значения признака, исключая повторения\n",
    "        t_values = np.unique([row[index] for row in data])\n",
    "        \n",
    "        for t in t_values:\n",
    "            true_data, false_data, true_labels, false_labels = split(data, labels, index, t)\n",
    "            #  пропускаем разбиения, в которых в узле остается менее 5 объектов\n",
    "            if len(true_data) < min_leaf or len(false_data) < min_leaf:\n",
    "                continue\n",
    "            \n",
    "            current_quality = quality(true_labels, false_labels, current_criterion, criterion)\n",
    "            \n",
    "            #  выбираем порог, на котором получается максимальный прирост качества\n",
    "            if current_quality > best_quality:\n",
    "                best_quality, best_t, best_index = current_quality, t, index\n",
    "\n",
    "    return best_quality, best_t, best_index"
   ]
  },
  {
   "cell_type": "code",
   "execution_count": 8,
   "metadata": {},
   "outputs": [],
   "source": [
    "# Построение дерева с помощью рекурсивной функции\n",
    "\n",
    "def build_tree(data, labels, criterion, max_depth, depth=0):\n",
    "    if depth < max_depth: # критерий остановки по максимальной глубине дерева\n",
    "        quality, t, index = find_best_split(data, labels, criterion)\n",
    "\n",
    "    #  Базовый случай - прекращаем рекурсию, когда нет прироста в качества\n",
    "        if quality == 0:\n",
    "            return Leaf(data, labels)\n",
    "\n",
    "        true_data, false_data, true_labels, false_labels = split(data, labels, index, t)\n",
    "        depth += 1\n",
    "    # Рекурсивно строим два поддерева\n",
    "        true_branch = build_tree(true_data, true_labels, criterion, max_depth)\n",
    "        false_branch = build_tree(false_data, false_labels, criterion, max_depth)\n",
    "\n",
    "    # Возвращаем класс узла со всеми поддеревьями, то есть целого дерева\n",
    "        return Node(index, t, true_branch, false_branch)\n",
    "    else:\n",
    "        return Leaf(data, labels)"
   ]
  },
  {
   "cell_type": "code",
   "execution_count": 9,
   "metadata": {},
   "outputs": [],
   "source": [
    "def classify_object(obj, node):\n",
    "\n",
    "    #  Останавливаем рекурсию, если достигли листа\n",
    "    if isinstance(node, Leaf):\n",
    "        answer = node.prediction\n",
    "        return answer\n",
    "\n",
    "    if obj[node.index] <= node.t:\n",
    "        return classify_object(obj, node.true_branch)\n",
    "    else:\n",
    "        return classify_object(obj, node.false_branch)"
   ]
  },
  {
   "cell_type": "code",
   "execution_count": 10,
   "metadata": {},
   "outputs": [],
   "source": [
    "def predict(data, tree):\n",
    "    \n",
    "    classes = []\n",
    "    for obj in data:\n",
    "        prediction = classify_object(obj, tree)\n",
    "        classes.append(prediction)\n",
    "    return classes"
   ]
  },
  {
   "cell_type": "code",
   "execution_count": 11,
   "metadata": {},
   "outputs": [],
   "source": [
    "def print_tree(node, spacing=\"\"):\n",
    "\n",
    "    # Если лист, то выводим его прогноз\n",
    "    if isinstance(node, Leaf):\n",
    "        print(spacing + \"Прогноз:\", node.prediction)\n",
    "        return\n",
    "\n",
    "    # Выведем значение индекса и порога на этом узле\n",
    "    print(spacing + 'Индекс', str(node.index))\n",
    "    print(spacing + 'Порог', str(node.t))\n",
    "\n",
    "    # Рекурсионный вызов функции на положительном поддереве\n",
    "    print (spacing + '--> True:')\n",
    "    print_tree(node.true_branch, spacing + \"  \")\n",
    "\n",
    "    # Рекурсионный вызов функции на положительном поддереве\n",
    "    print (spacing + '--> False:')\n",
    "    print_tree(node.false_branch, spacing + \"  \")"
   ]
  },
  {
   "cell_type": "code",
   "execution_count": 12,
   "metadata": {},
   "outputs": [],
   "source": [
    "# Введем функцию подсчета точности как доли правильных ответов\n",
    "def accuracy_metric(actual, predicted):\n",
    "    correct = 0\n",
    "    for i in range(len(actual)):\n",
    "        if actual[i] == predicted[i]:\n",
    "            correct += 1\n",
    "    return correct / float(len(actual)) * 100.0"
   ]
  },
  {
   "cell_type": "code",
   "execution_count": 13,
   "metadata": {},
   "outputs": [],
   "source": [
    "#Сгенирируем данные\n",
    "class_data, class_labels = datasets.make_classification(n_samples = 1000,\n",
    "                                                        n_features = 2, \n",
    "                                                        n_informative = 2, \n",
    "                                                        n_classes = 2, \n",
    "                                                        n_redundant = 0, \n",
    "                                                        n_clusters_per_class = 1, \n",
    "                                                        random_state = 5)"
   ]
  },
  {
   "cell_type": "code",
   "execution_count": 14,
   "metadata": {},
   "outputs": [],
   "source": [
    "train_data, test_data, train_labels, test_labels = model_selection.train_test_split(class_data, \n",
    "                                                                                     class_labels, \n",
    "                                                                                     test_size = 0.25,\n",
    "                                                                                     random_state = 1)"
   ]
  },
  {
   "cell_type": "code",
   "execution_count": 17,
   "metadata": {},
   "outputs": [
    {
     "name": "stdout",
     "output_type": "stream",
     "text": [
      "Индекс 0\n",
      "Порог -0.001967524769128759\n",
      "--> True:\n",
      "  Индекс 1\n",
      "  Порог -1.3993975578815423\n",
      "  --> True:\n",
      "    Индекс 1\n",
      "    Порог -1.6727874248522925\n",
      "    --> True:\n",
      "      Индекс 0\n",
      "      Порог -0.8637065067732941\n",
      "      --> True:\n",
      "        Прогноз: 0.4\n",
      "      --> False:\n",
      "        Прогноз: 0.0\n",
      "    --> False:\n",
      "      Индекс 0\n",
      "      Порог -0.40118216125291906\n",
      "      --> True:\n",
      "        Индекс 1\n",
      "        Порог -1.5684737117409848\n",
      "        --> True:\n",
      "          Индекс 0\n",
      "          Порог -0.6882680999463433\n",
      "          --> True:\n",
      "            Прогноз: 0.2\n",
      "          --> False:\n",
      "            Индекс 0\n",
      "            Порог -0.5543283463967666\n",
      "            --> True:\n",
      "              Прогноз: 0.5555555555555556\n",
      "            --> False:\n",
      "              Прогноз: 0.8333333333333334\n",
      "        --> False:\n",
      "          Прогноз: 0.0\n",
      "      --> False:\n",
      "        Индекс 1\n",
      "        Порог -1.536151890760579\n",
      "        --> True:\n",
      "          Прогноз: 0.4\n",
      "        --> False:\n",
      "          Индекс 0\n",
      "          Порог -0.19169723851473508\n",
      "          --> True:\n",
      "            Прогноз: 1.0\n",
      "          --> False:\n",
      "            Индекс 0\n",
      "            Порог -0.08427603182389243\n",
      "            --> True:\n",
      "              Индекс 0\n",
      "              Порог -0.1390175576325463\n",
      "              --> True:\n",
      "                Прогноз: 0.8\n",
      "              --> False:\n",
      "                Прогноз: 1.0\n",
      "            --> False:\n",
      "              Прогноз: 0.8\n",
      "  --> False:\n",
      "    Прогноз: 0.0\n",
      "--> False:\n",
      "  Индекс 1\n",
      "  Порог -1.4518330557811816\n",
      "  --> True:\n",
      "    Прогноз: 0.0\n",
      "  --> False:\n",
      "    Индекс 0\n",
      "    Порог 0.08948763365897339\n",
      "    --> True:\n",
      "      Индекс 0\n",
      "      Порог 0.04459943514365716\n",
      "      --> True:\n",
      "        Прогноз: 1.0\n",
      "      --> False:\n",
      "        Прогноз: 0.8\n",
      "    --> False:\n",
      "      Индекс 0\n",
      "      Порог 2.16476189691063\n",
      "      --> True:\n",
      "        Индекс 0\n",
      "        Порог 1.2003150546431454\n",
      "        --> True:\n",
      "          Индекс 0\n",
      "          Порог 1.1570693110304557\n",
      "          --> True:\n",
      "            Индекс 1\n",
      "            Порог -1.0609167140093252\n",
      "            --> True:\n",
      "              Прогноз: 1.0\n",
      "            --> False:\n",
      "              Индекс 0\n",
      "              Порог 0.8595014481629895\n",
      "              --> True:\n",
      "                Прогноз: 0.8\n",
      "              --> False:\n",
      "                Прогноз: 1.0\n",
      "          --> False:\n",
      "            Прогноз: 0.8\n",
      "        --> False:\n",
      "          Прогноз: 1.0\n",
      "      --> False:\n",
      "        Индекс 0\n",
      "        Порог 2.2465486948331668\n",
      "        --> True:\n",
      "          Прогноз: 0.8\n",
      "        --> False:\n",
      "          Прогноз: 1.0\n"
     ]
    }
   ],
   "source": [
    "# Построим дерево решений\n",
    "tree_var = build_tree(train_data, train_labels, var_, max_depth = 5)\n",
    "print_tree(tree_var)"
   ]
  },
  {
   "cell_type": "code",
   "execution_count": 18,
   "metadata": {},
   "outputs": [],
   "source": [
    "# Ответы для обучающей выборки\n",
    "answers_train = predict(train_data, tree_var) "
   ]
  },
  {
   "cell_type": "code",
   "execution_count": 19,
   "metadata": {},
   "outputs": [],
   "source": [
    "# Ответы для тетсовой выборки\n",
    "answers_test = predict(test_data, tree_var)"
   ]
  },
  {
   "cell_type": "code",
   "execution_count": 25,
   "metadata": {},
   "outputs": [
    {
     "name": "stdout",
     "output_type": "stream",
     "text": [
      "Точность обучающей выборки с критерием дисперсии: 91.33333333333333\n"
     ]
    }
   ],
   "source": [
    "# Точность обучающей выборки\n",
    "accuracy_train = accuracy_metric(train_labels, answers_train)\n",
    "print(f\"Точность обучающей выборки с критерием дисперсии: {accuracy_train}\")"
   ]
  },
  {
   "cell_type": "code",
   "execution_count": 26,
   "metadata": {},
   "outputs": [
    {
     "name": "stdout",
     "output_type": "stream",
     "text": [
      "Точность обучающей выборки с критерием дисперсии: 90.4\n"
     ]
    }
   ],
   "source": [
    "#Точность тестовой выборки\n",
    "accuracy_test = accuracy_metric(test_labels, answers_test)\n",
    "print(f\"Точность обучающей выборки с критерием дисперсии: {accuracy_test}\")"
   ]
  },
  {
   "cell_type": "code",
   "execution_count": 27,
   "metadata": {},
   "outputs": [],
   "source": [
    "# Визуализируем дерево на графике\n",
    "\n",
    "def get_meshgrid(data, step=.05, border=1.2):\n",
    "    x_min, x_max = data[:, 0].min() - border, data[:, 0].max() + border\n",
    "    y_min, y_max = data[:, 1].min() - border, data[:, 1].max() + border\n",
    "    return np.meshgrid(np.arange(x_min, x_max, step), np.arange(y_min, y_max, step))\n"
   ]
  },
  {
   "cell_type": "code",
   "execution_count": 28,
   "metadata": {},
   "outputs": [],
   "source": [
    "colors = ListedColormap(['orange', 'green'])\n",
    "light_colors = ListedColormap(['bisque', 'lightgreen'])"
   ]
  },
  {
   "cell_type": "code",
   "execution_count": 29,
   "metadata": {},
   "outputs": [
    {
     "name": "stderr",
     "output_type": "stream",
     "text": [
      "<ipython-input-29-b2b9cbcd7659>:8: MatplotlibDeprecationWarning: shading='flat' when X and Y have the same dimensions as C is deprecated since 3.3.  Either specify the corners of the quadrilaterals with X and Y, or pass shading='auto', 'nearest' or 'gouraud', or set rcParams['pcolor.shading'].  This will become an error two minor releases later.\n",
      "  plt.pcolormesh(xx, yy, mesh_predictions, cmap = light_colors)\n",
      "<ipython-input-29-b2b9cbcd7659>:14: MatplotlibDeprecationWarning: shading='flat' when X and Y have the same dimensions as C is deprecated since 3.3.  Either specify the corners of the quadrilaterals with X and Y, or pass shading='auto', 'nearest' or 'gouraud', or set rcParams['pcolor.shading'].  This will become an error two minor releases later.\n",
      "  plt.pcolormesh(xx, yy, mesh_predictions, cmap = light_colors)\n"
     ]
    },
    {
     "data": {
      "text/plain": [
       "Text(0.5, 1.0, 'Test accuracy=90.40')"
      ]
     },
     "execution_count": 29,
     "metadata": {},
     "output_type": "execute_result"
    },
    {
     "data": {
      "image/png": "[encoded data removed]",
      "text/plain": [
       "<Figure size 1152x504 with 2 Axes>"
      ]
     },
     "metadata": {
      "needs_background": "light"
     },
     "output_type": "display_data"
    }
   ],
   "source": [
    "# сгенерированная выборка\n",
    "plt.figure(figsize = (16, 7))\n",
    "\n",
    "# график обучающей выборки\n",
    "plt.subplot(1,2,1)\n",
    "xx, yy = get_meshgrid(train_data)\n",
    "mesh_predictions = np.array(predict(np.c_[xx.ravel(), yy.ravel()], tree_var)).reshape(xx.shape)\n",
    "plt.pcolormesh(xx, yy, mesh_predictions, cmap = light_colors)\n",
    "plt.scatter(train_data[:, 0], train_data[:, 1], c = train_labels, cmap = colors)\n",
    "plt.title(f'Train accuracy={accuracy_train:.2f}')\n",
    "\n",
    "# график тестовой выборки\n",
    "plt.subplot(1,2,2)\n",
    "plt.pcolormesh(xx, yy, mesh_predictions, cmap = light_colors)\n",
    "plt.scatter(test_data[:, 0], test_data[:, 1], c = test_labels, cmap = colors)\n",
    "plt.title(f'Test accuracy={accuracy_test:.2f}')"
   ]
  },
  {
   "cell_type": "code",
   "execution_count": null,
   "metadata": {},
   "outputs": [],
   "source": []
  }
 ],
 "metadata": {
  "kernelspec": {
   "display_name": "Python 3",
   "language": "python",
   "name": "python3"
  },
  "language_info": {
   "codemirror_mode": {
    "name": "ipython",
    "version": 3
   },
   "file_extension": ".py",
   "mimetype": "text/x-python",
   "name": "python",
   "nbconvert_exporter": "python",
   "pygments_lexer": "ipython3",
   "version": "3.8.1"
  }
 },
 "nbformat": 4,
 "nbformat_minor": 4
}
